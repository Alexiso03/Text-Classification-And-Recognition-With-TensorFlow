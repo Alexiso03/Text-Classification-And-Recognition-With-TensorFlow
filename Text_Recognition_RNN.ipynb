{
 "cells": [
  {
   "cell_type": "markdown",
   "metadata": {
    "id": "sp7D0ktn5eiG"
   },
   "source": [
    "## Tweet Emotion Recognition: Natural Language Processing with TensorFlow\n",
    "\n",
    "---\n",
    "\n",
    "Dataset: [Tweet Emotion Dataset](https://github.com/dair-ai/emotion_dataset)\n",
    "\n",
    "---"
   ]
  },
  {
   "cell_type": "markdown",
   "metadata": {
    "id": "cprXxkrMxIgT"
   },
   "source": [
    "## Task 1: Setup and Imports\n",
    "\n",
    "1. Installing Hugging Face's nlp package\n",
    "2. Importing libraries"
   ]
  },
  {
   "cell_type": "code",
   "execution_count": 1,
   "metadata": {
    "colab": {
     "base_uri": "https://localhost:8080/"
    },
    "executionInfo": {
     "elapsed": 3134,
     "status": "ok",
     "timestamp": 1633191974470,
     "user": {
      "displayName": "Bipin Kumar",
      "photoUrl": "https://lh3.googleusercontent.com/a/default-user=s64",
      "userId": "04387144792121069990"
     },
     "user_tz": -330
    },
    "id": "5agZRy-45i0g",
    "outputId": "72288e83-fc61-4d98-aaca-18785e09038a"
   },
   "outputs": [
    {
     "name": "stdout",
     "output_type": "stream",
     "text": [
      "Collecting nlp\n",
      "  Downloading nlp-0.4.0-py3-none-any.whl (1.7 MB)\n",
      "\u001b[K     |████████████████████████████████| 1.7 MB 12.0 MB/s eta 0:00:01\n",
      "\u001b[?25hRequirement already satisfied: pandas in /opt/conda/envs/Python-3.8-main/lib/python3.8/site-packages (from nlp) (1.2.4)\n",
      "Collecting xxhash\n",
      "  Downloading xxhash-2.0.2-cp38-cp38-manylinux2010_x86_64.whl (243 kB)\n",
      "\u001b[K     |████████████████████████████████| 243 kB 39.6 MB/s eta 0:00:01\n",
      "\u001b[?25hRequirement already satisfied: numpy in /opt/conda/envs/Python-3.8-main/lib/python3.8/site-packages (from nlp) (1.19.2)\n",
      "Collecting filelock\n",
      "  Downloading filelock-3.2.0-py2.py3-none-any.whl (10 kB)\n",
      "Requirement already satisfied: pyarrow>=0.16.0 in /opt/conda/envs/Python-3.8-main/lib/python3.8/site-packages (from nlp) (3.0.0)\n",
      "Requirement already satisfied: requests>=2.19.0 in /opt/conda/envs/Python-3.8-main/lib/python3.8/site-packages (from nlp) (2.25.1)\n",
      "Requirement already satisfied: tqdm>=4.27 in /opt/conda/envs/Python-3.8-main/lib/python3.8/site-packages (from nlp) (4.59.0)\n",
      "Collecting dill\n",
      "  Downloading dill-0.3.4-py2.py3-none-any.whl (86 kB)\n",
      "\u001b[K     |████████████████████████████████| 86 kB 12.5 MB/s eta 0:00:01\n",
      "\u001b[?25hRequirement already satisfied: urllib3<1.27,>=1.21.1 in /opt/conda/envs/Python-3.8-main/lib/python3.8/site-packages (from requests>=2.19.0->nlp) (1.26.6)\n",
      "Requirement already satisfied: certifi>=2017.4.17 in /opt/conda/envs/Python-3.8-main/lib/python3.8/site-packages (from requests>=2.19.0->nlp) (2021.5.30)\n",
      "Requirement already satisfied: idna<3,>=2.5 in /opt/conda/envs/Python-3.8-main/lib/python3.8/site-packages (from requests>=2.19.0->nlp) (2.8)\n",
      "Requirement already satisfied: chardet<5,>=3.0.2 in /opt/conda/envs/Python-3.8-main/lib/python3.8/site-packages (from requests>=2.19.0->nlp) (3.0.4)\n",
      "Requirement already satisfied: python-dateutil>=2.7.3 in /opt/conda/envs/Python-3.8-main/lib/python3.8/site-packages (from pandas->nlp) (2.8.1)\n",
      "Requirement already satisfied: pytz>=2017.3 in /opt/conda/envs/Python-3.8-main/lib/python3.8/site-packages (from pandas->nlp) (2021.1)\n",
      "Requirement already satisfied: six>=1.5 in /opt/conda/envs/Python-3.8-main/lib/python3.8/site-packages (from python-dateutil>=2.7.3->pandas->nlp) (1.15.0)\n",
      "Installing collected packages: xxhash, filelock, dill, nlp\n",
      "Successfully installed dill-0.3.4 filelock-3.2.0 nlp-0.4.0 xxhash-2.0.2\n"
     ]
    }
   ],
   "source": [
    "!pip install nlp"
   ]
  },
  {
   "cell_type": "code",
   "execution_count": 2,
   "metadata": {
    "colab": {
     "base_uri": "https://localhost:8080/"
    },
    "executionInfo": {
     "elapsed": 11,
     "status": "ok",
     "timestamp": 1633191974471,
     "user": {
      "displayName": "Bipin Kumar",
      "photoUrl": "https://lh3.googleusercontent.com/a/default-user=s64",
      "userId": "04387144792121069990"
     },
     "user_tz": -330
    },
    "id": "yKFjWz6e5eiH",
    "outputId": "0e63a6c1-2740-4f61-d082-db5acac78049"
   },
   "outputs": [
    {
     "name": "stdout",
     "output_type": "stream",
     "text": [
      "Using TensorFlow version 2.4.3\n"
     ]
    }
   ],
   "source": [
    "%matplotlib inline\n",
    "\n",
    "import tensorflow as tf\n",
    "import numpy as np\n",
    "import matplotlib.pyplot as plt\n",
    "import nlp\n",
    "import random\n",
    "\n",
    "\n",
    "def show_history(h):\n",
    "    epochs_trained = len(h.history['loss'])\n",
    "    plt.figure(figsize=(16, 6))\n",
    "\n",
    "    plt.subplot(1, 2, 1)\n",
    "    plt.plot(range(0, epochs_trained), h.history.get('accuracy'), label='Training')\n",
    "    plt.plot(range(0, epochs_trained), h.history.get('val_accuracy'), label='Validation')\n",
    "    plt.ylim([0., 1.])\n",
    "    plt.xlabel('Epochs')\n",
    "    plt.ylabel('Accuracy')\n",
    "    plt.legend()\n",
    "\n",
    "    plt.subplot(1, 2, 2)\n",
    "    plt.plot(range(0, epochs_trained), h.history.get('loss'), label='Training')\n",
    "    plt.plot(range(0, epochs_trained), h.history.get('val_loss'), label='Validation')\n",
    "    plt.xlabel('Epochs')\n",
    "    plt.ylabel('Loss')\n",
    "    plt.legend()\n",
    "    plt.show()\n",
    "\n",
    "    \n",
    "def show_confusion_matrix(y_true, y_pred, classes):\n",
    "    from sklearn.metrics import confusion_matrix\n",
    "    \n",
    "    cm = confusion_matrix(y_true, y_pred, normalize='true')\n",
    "\n",
    "    plt.figure(figsize=(8, 8))\n",
    "    sp = plt.subplot(1, 1, 1)\n",
    "    ctx = sp.matshow(cm)\n",
    "    plt.xticks(list(range(0, 6)), labels=classes)\n",
    "    plt.yticks(list(range(0, 6)), labels=classes)\n",
    "    plt.colorbar(ctx)\n",
    "    plt.show()\n",
    "\n",
    "    \n",
    "print('Using TensorFlow version', tf.__version__)"
   ]
  },
  {
   "cell_type": "markdown",
   "metadata": {
    "id": "7JsBpezExIga"
   },
   "source": [
    "## Task 2: Importing Data\n",
    "\n",
    "1. Importing the Tweet Emotion dataset\n",
    "2. Creating train, validation and test sets\n",
    "3. Extracting tweets and labels from the examples"
   ]
  },
  {
   "cell_type": "code",
   "execution_count": 3,
   "metadata": {
    "colab": {
     "base_uri": "https://localhost:8080/"
    },
    "executionInfo": {
     "elapsed": 672,
     "status": "ok",
     "timestamp": 1633191975138,
     "user": {
      "displayName": "Bipin Kumar",
      "photoUrl": "https://lh3.googleusercontent.com/a/default-user=s64",
      "userId": "04387144792121069990"
     },
     "user_tz": -330
    },
    "id": "0YHOvjAu5eiL",
    "outputId": "49327c7f-e910-499f-f5e7-0934aaf4b185"
   },
   "outputs": [
    {
     "data": {
      "application/vnd.jupyter.widget-view+json": {
       "model_id": "e5163623091846f99b2fe10a6a17434e",
       "version_major": 2,
       "version_minor": 0
      },
      "text/plain": [
       "Downloading:   0%|          | 0.00/3.41k [00:00<?, ?B/s]"
      ]
     },
     "metadata": {},
     "output_type": "display_data"
    },
    {
     "data": {
      "application/vnd.jupyter.widget-view+json": {
       "model_id": "8d76c29e1d134bd3b3113c0676cc928a",
       "version_major": 2,
       "version_minor": 0
      },
      "text/plain": [
       "Downloading:   0%|          | 0.00/6.01k [00:00<?, ?B/s]"
      ]
     },
     "metadata": {},
     "output_type": "display_data"
    },
    {
     "name": "stderr",
     "output_type": "stream",
     "text": [
      "Using custom data configuration default\n"
     ]
    },
    {
     "name": "stdout",
     "output_type": "stream",
     "text": [
      "Downloading and preparing dataset emotion/default (download: 1.97 MiB, generated: 2.09 MiB, post-processed: Unknown sizetotal: 4.06 MiB) to /home/wsuser/.cache/huggingface/datasets/emotion/default/0.0.0/84e07cd366f4451464584cdbd4958f512bcaddb1e921341e07298ce8a9ce42f4...\n"
     ]
    },
    {
     "data": {
      "application/vnd.jupyter.widget-view+json": {
       "model_id": "11d504c3e5d84654968bd5dc3b675bec",
       "version_major": 2,
       "version_minor": 0
      },
      "text/plain": [
       "Downloading:   0%|          | 0.00/1.66M [00:00<?, ?B/s]"
      ]
     },
     "metadata": {},
     "output_type": "display_data"
    },
    {
     "data": {
      "application/vnd.jupyter.widget-view+json": {
       "model_id": "6d3d1a34295b4603b0a715c15300d37d",
       "version_major": 2,
       "version_minor": 0
      },
      "text/plain": [
       "Downloading:   0%|          | 0.00/204k [00:00<?, ?B/s]"
      ]
     },
     "metadata": {},
     "output_type": "display_data"
    },
    {
     "data": {
      "application/vnd.jupyter.widget-view+json": {
       "model_id": "9ee65a0d21dd461fb9ca27d7d6261cd9",
       "version_major": 2,
       "version_minor": 0
      },
      "text/plain": [
       "Downloading:   0%|          | 0.00/207k [00:00<?, ?B/s]"
      ]
     },
     "metadata": {},
     "output_type": "display_data"
    },
    {
     "data": {
      "application/vnd.jupyter.widget-view+json": {
       "model_id": "9e0b323e1a054fc1be4bfa019537fb05",
       "version_major": 2,
       "version_minor": 0
      },
      "text/plain": [
       "0 examples [00:00, ? examples/s]"
      ]
     },
     "metadata": {},
     "output_type": "display_data"
    },
    {
     "data": {
      "application/vnd.jupyter.widget-view+json": {
       "model_id": "7d6c1827e7ba41b092d5d4ea8bc45dda",
       "version_major": 2,
       "version_minor": 0
      },
      "text/plain": [
       "0 examples [00:00, ? examples/s]"
      ]
     },
     "metadata": {},
     "output_type": "display_data"
    },
    {
     "data": {
      "application/vnd.jupyter.widget-view+json": {
       "model_id": "97f4fbf3fe97482d82f3e0ef0a1282de",
       "version_major": 2,
       "version_minor": 0
      },
      "text/plain": [
       "0 examples [00:00, ? examples/s]"
      ]
     },
     "metadata": {},
     "output_type": "display_data"
    },
    {
     "name": "stdout",
     "output_type": "stream",
     "text": [
      "Dataset emotion downloaded and prepared to /home/wsuser/.cache/huggingface/datasets/emotion/default/0.0.0/84e07cd366f4451464584cdbd4958f512bcaddb1e921341e07298ce8a9ce42f4. Subsequent calls will reuse this data.\n"
     ]
    }
   ],
   "source": [
    "dataset = nlp.load_dataset('emotion')"
   ]
  },
  {
   "cell_type": "code",
   "execution_count": 4,
   "metadata": {
    "colab": {
     "base_uri": "https://localhost:8080/"
    },
    "executionInfo": {
     "elapsed": 9,
     "status": "ok",
     "timestamp": 1633191975139,
     "user": {
      "displayName": "Bipin Kumar",
      "photoUrl": "https://lh3.googleusercontent.com/a/default-user=s64",
      "userId": "04387144792121069990"
     },
     "user_tz": -330
    },
    "id": "2s0h541FxIgc",
    "outputId": "d0e26274-c5f9-449b-b7c8-2ef105d04626"
   },
   "outputs": [
    {
     "data": {
      "text/plain": [
       "{'train': Dataset(features: {'text': Value(dtype='string', id=None), 'label': Value(dtype='string', id=None)}, num_rows: 16000),\n",
       " 'validation': Dataset(features: {'text': Value(dtype='string', id=None), 'label': Value(dtype='string', id=None)}, num_rows: 2000),\n",
       " 'test': Dataset(features: {'text': Value(dtype='string', id=None), 'label': Value(dtype='string', id=None)}, num_rows: 2000)}"
      ]
     },
     "execution_count": 4,
     "metadata": {},
     "output_type": "execute_result"
    }
   ],
   "source": [
    "dataset"
   ]
  },
  {
   "cell_type": "code",
   "execution_count": 5,
   "metadata": {
    "executionInfo": {
     "elapsed": 7,
     "status": "ok",
     "timestamp": 1633191975140,
     "user": {
      "displayName": "Bipin Kumar",
      "photoUrl": "https://lh3.googleusercontent.com/a/default-user=s64",
      "userId": "04387144792121069990"
     },
     "user_tz": -330
    },
    "id": "z7eCnxU25eiN"
   },
   "outputs": [],
   "source": [
    "train = dataset['train']\n",
    "val = dataset['validation']\n",
    "test = dataset['test']"
   ]
  },
  {
   "cell_type": "code",
   "execution_count": 6,
   "metadata": {
    "executionInfo": {
     "elapsed": 6,
     "status": "ok",
     "timestamp": 1633191975140,
     "user": {
      "displayName": "Bipin Kumar",
      "photoUrl": "https://lh3.googleusercontent.com/a/default-user=s64",
      "userId": "04387144792121069990"
     },
     "user_tz": -330
    },
    "id": "oDYXMfZy5eiP"
   },
   "outputs": [],
   "source": [
    "def get_tweet(data):\n",
    "  tweets = [x['text'] for x in data]\n",
    "  labels = [x['label'] for x in data]\n",
    "  return tweets, labels"
   ]
  },
  {
   "cell_type": "code",
   "execution_count": 7,
   "metadata": {
    "executionInfo": {
     "elapsed": 749,
     "status": "ok",
     "timestamp": 1633191975884,
     "user": {
      "displayName": "Bipin Kumar",
      "photoUrl": "https://lh3.googleusercontent.com/a/default-user=s64",
      "userId": "04387144792121069990"
     },
     "user_tz": -330
    },
    "id": "jeq3-vSB5eiR"
   },
   "outputs": [],
   "source": [
    "tweets,labels = get_tweet(train)"
   ]
  },
  {
   "cell_type": "code",
   "execution_count": 8,
   "metadata": {
    "colab": {
     "base_uri": "https://localhost:8080/"
    },
    "executionInfo": {
     "elapsed": 9,
     "status": "ok",
     "timestamp": 1633191975884,
     "user": {
      "displayName": "Bipin Kumar",
      "photoUrl": "https://lh3.googleusercontent.com/a/default-user=s64",
      "userId": "04387144792121069990"
     },
     "user_tz": -330
    },
    "id": "bHD3Tk0J5eiU",
    "outputId": "cf31f995-a215-43f3-d196-c0c8d1328ac9"
   },
   "outputs": [
    {
     "data": {
      "text/plain": [
       "('i didnt feel humiliated', 'sadness')"
      ]
     },
     "execution_count": 8,
     "metadata": {},
     "output_type": "execute_result"
    }
   ],
   "source": [
    "tweets[0], labels[0]"
   ]
  },
  {
   "cell_type": "markdown",
   "metadata": {
    "id": "gcAflLv6xIgp"
   },
   "source": [
    "## Task 3: Tokenizer\n",
    "\n",
    "1. Tokenizing the tweets"
   ]
  },
  {
   "cell_type": "code",
   "execution_count": 9,
   "metadata": {
    "executionInfo": {
     "elapsed": 6,
     "status": "ok",
     "timestamp": 1633191975886,
     "user": {
      "displayName": "Bipin Kumar",
      "photoUrl": "https://lh3.googleusercontent.com/a/default-user=s64",
      "userId": "04387144792121069990"
     },
     "user_tz": -330
    },
    "id": "qfX5-ResxIgq"
   },
   "outputs": [],
   "source": [
    "from tensorflow.keras.preprocessing.text import Tokenizer"
   ]
  },
  {
   "cell_type": "code",
   "execution_count": 10,
   "metadata": {
    "executionInfo": {
     "elapsed": 637,
     "status": "ok",
     "timestamp": 1633191976518,
     "user": {
      "displayName": "Bipin Kumar",
      "photoUrl": "https://lh3.googleusercontent.com/a/default-user=s64",
      "userId": "04387144792121069990"
     },
     "user_tz": -330
    },
    "id": "cckUvwBo5eif"
   },
   "outputs": [],
   "source": [
    "tokenizer = Tokenizer(num_words=10000, oov_token='<UNK>')\n",
    "tokenizer.fit_on_texts(tweets)"
   ]
  },
  {
   "cell_type": "code",
   "execution_count": 11,
   "metadata": {
    "colab": {
     "base_uri": "https://localhost:8080/"
    },
    "executionInfo": {
     "elapsed": 27,
     "status": "ok",
     "timestamp": 1633191976520,
     "user": {
      "displayName": "Bipin Kumar",
      "photoUrl": "https://lh3.googleusercontent.com/a/default-user=s64",
      "userId": "04387144792121069990"
     },
     "user_tz": -330
    },
    "id": "l5cwG5onMNMF",
    "outputId": "f1f2d9fc-29e2-403a-c9c9-bf0935eb9e3c"
   },
   "outputs": [
    {
     "data": {
      "text/plain": [
       "[[2, 139, 3, 679]]"
      ]
     },
     "execution_count": 11,
     "metadata": {},
     "output_type": "execute_result"
    }
   ],
   "source": [
    "tokenizer.texts_to_sequences([tweets[0]])"
   ]
  },
  {
   "cell_type": "code",
   "execution_count": 12,
   "metadata": {
    "colab": {
     "base_uri": "https://localhost:8080/",
     "height": 35
    },
    "executionInfo": {
     "elapsed": 23,
     "status": "ok",
     "timestamp": 1633191976521,
     "user": {
      "displayName": "Bipin Kumar",
      "photoUrl": "https://lh3.googleusercontent.com/a/default-user=s64",
      "userId": "04387144792121069990"
     },
     "user_tz": -330
    },
    "id": "5poRdfBJMjIe",
    "outputId": "6b5c69a7-d04c-4cdd-ae4c-8d2c25656474"
   },
   "outputs": [
    {
     "data": {
      "text/plain": [
       "'i didnt feel humiliated'"
      ]
     },
     "execution_count": 12,
     "metadata": {},
     "output_type": "execute_result"
    }
   ],
   "source": [
    "tweets[0]"
   ]
  },
  {
   "cell_type": "markdown",
   "metadata": {
    "id": "i3Bqm7b2xIgu"
   },
   "source": [
    "## Task 4: Padding and Truncating Sequences\n",
    "\n",
    "1. Checking length of the tweets\n",
    "2. Creating padded sequences"
   ]
  },
  {
   "cell_type": "code",
   "execution_count": 13,
   "metadata": {
    "colab": {
     "base_uri": "https://localhost:8080/",
     "height": 265
    },
    "executionInfo": {
     "elapsed": 23,
     "status": "ok",
     "timestamp": 1633191976522,
     "user": {
      "displayName": "Bipin Kumar",
      "photoUrl": "https://lh3.googleusercontent.com/a/default-user=s64",
      "userId": "04387144792121069990"
     },
     "user_tz": -330
    },
    "id": "mLvf_WFZxIgu",
    "outputId": "59aebb55-c8bd-4fd9-d8e0-8c6b2ad43be5"
   },
   "outputs": [
    {
     "data": {
      "image/png": "[encoded data removed]",
      "text/plain": [
       "<Figure size 432x288 with 1 Axes>"
      ]
     },
     "metadata": {
      "needs_background": "light"
     },
     "output_type": "display_data"
    }
   ],
   "source": [
    "lengths = [len(t.split(' ')) for t in tweets]\n",
    "plt.hist(lengths, bins = len(set(lengths)))\n",
    "plt.show()"
   ]
  },
  {
   "cell_type": "code",
   "execution_count": 14,
   "metadata": {
    "executionInfo": {
     "elapsed": 23,
     "status": "ok",
     "timestamp": 1633191976524,
     "user": {
      "displayName": "Bipin Kumar",
      "photoUrl": "https://lh3.googleusercontent.com/a/default-user=s64",
      "userId": "04387144792121069990"
     },
     "user_tz": -330
    },
    "id": "EOi5lIE3xIgx"
   },
   "outputs": [],
   "source": [
    "maxlen = 50\n",
    "\n",
    "from tensorflow.keras.preprocessing.sequence import pad_sequences"
   ]
  },
  {
   "cell_type": "code",
   "execution_count": 15,
   "metadata": {
    "executionInfo": {
     "elapsed": 23,
     "status": "ok",
     "timestamp": 1633191976525,
     "user": {
      "displayName": "Bipin Kumar",
      "photoUrl": "https://lh3.googleusercontent.com/a/default-user=s64",
      "userId": "04387144792121069990"
     },
     "user_tz": -330
    },
    "id": "Q9J_Iemf5eiq"
   },
   "outputs": [],
   "source": [
    "def get_sequences(tokenizer, tweets):\n",
    "  sequences = tokenizer.texts_to_sequences(tweets)\n",
    "  padded = pad_sequences(sequences, truncating='post', padding='post', maxlen = maxlen)\n",
    "  return padded"
   ]
  },
  {
   "cell_type": "code",
   "execution_count": 16,
   "metadata": {
    "executionInfo": {
     "elapsed": 673,
     "status": "ok",
     "timestamp": 1633191977175,
     "user": {
      "displayName": "Bipin Kumar",
      "photoUrl": "https://lh3.googleusercontent.com/a/default-user=s64",
      "userId": "04387144792121069990"
     },
     "user_tz": -330
    },
    "id": "eglH77ky5ei0"
   },
   "outputs": [],
   "source": [
    "padded_train_seq = get_sequences(tokenizer, tweets)"
   ]
  },
  {
   "cell_type": "code",
   "execution_count": 17,
   "metadata": {
    "colab": {
     "base_uri": "https://localhost:8080/"
    },
    "executionInfo": {
     "elapsed": 34,
     "status": "ok",
     "timestamp": 1633191977178,
     "user": {
      "displayName": "Bipin Kumar",
      "photoUrl": "https://lh3.googleusercontent.com/a/default-user=s64",
      "userId": "04387144792121069990"
     },
     "user_tz": -330
    },
    "id": "iGR473HA5ei7",
    "outputId": "d82f8f8d-56b1-4d8e-8c92-e6b2f00588bd"
   },
   "outputs": [
    {
     "data": {
      "text/plain": [
       "array([  2, 139,   3, 679,   0,   0,   0,   0,   0,   0,   0,   0,   0,\n",
       "         0,   0,   0,   0,   0,   0,   0,   0,   0,   0,   0,   0,   0,\n",
       "         0,   0,   0,   0,   0,   0,   0,   0,   0,   0,   0,   0,   0,\n",
       "         0,   0,   0,   0,   0,   0,   0,   0,   0,   0,   0], dtype=int32)"
      ]
     },
     "execution_count": 17,
     "metadata": {},
     "output_type": "execute_result"
    }
   ],
   "source": [
    "padded_train_seq[0]"
   ]
  },
  {
   "cell_type": "markdown",
   "metadata": {
    "id": "BURhOX_KxIg8"
   },
   "source": [
    "## Task 5: Preparing the Labels\n",
    "\n",
    "1. Creating classes to index and index to classes dictionaries\n",
    "2. Converting text labels to numeric labels"
   ]
  },
  {
   "cell_type": "code",
   "execution_count": 18,
   "metadata": {
    "colab": {
     "base_uri": "https://localhost:8080/"
    },
    "executionInfo": {
     "elapsed": 31,
     "status": "ok",
     "timestamp": 1633191977179,
     "user": {
      "displayName": "Bipin Kumar",
      "photoUrl": "https://lh3.googleusercontent.com/a/default-user=s64",
      "userId": "04387144792121069990"
     },
     "user_tz": -330
    },
    "id": "SufT2bpD5ejE",
    "outputId": "22c38281-3239-453e-8e71-6447be073cc2"
   },
   "outputs": [
    {
     "name": "stdout",
     "output_type": "stream",
     "text": [
      "{'joy', 'love', 'surprise', 'anger', 'fear', 'sadness'}\n"
     ]
    }
   ],
   "source": [
    "classes = set(labels)\n",
    "print(classes)"
   ]
  },
  {
   "cell_type": "code",
   "execution_count": 19,
   "metadata": {
    "colab": {
     "base_uri": "https://localhost:8080/",
     "height": 265
    },
    "executionInfo": {
     "elapsed": 29,
     "status": "ok",
     "timestamp": 1633191977181,
     "user": {
      "displayName": "Bipin Kumar",
      "photoUrl": "https://lh3.googleusercontent.com/a/default-user=s64",
      "userId": "04387144792121069990"
     },
     "user_tz": -330
    },
    "id": "rpwzL88I7YSm",
    "outputId": "4c7a0c45-9aeb-466e-9bfc-980e77ae1893"
   },
   "outputs": [
    {
     "data": {
      "image/png": "[encoded data removed]",
      "text/plain": [
       "<Figure size 432x288 with 1 Axes>"
      ]
     },
     "metadata": {
      "needs_background": "light"
     },
     "output_type": "display_data"
    }
   ],
   "source": [
    "plt.hist(labels, bins = 11)\n",
    "plt.show()"
   ]
  },
  {
   "cell_type": "code",
   "execution_count": 20,
   "metadata": {
    "executionInfo": {
     "elapsed": 28,
     "status": "ok",
     "timestamp": 1633191977182,
     "user": {
      "displayName": "Bipin Kumar",
      "photoUrl": "https://lh3.googleusercontent.com/a/default-user=s64",
      "userId": "04387144792121069990"
     },
     "user_tz": -330
    },
    "id": "dNLF6rXL5ejN"
   },
   "outputs": [],
   "source": [
    "class_to_index = dict((c,i) for i,c in enumerate(classes))\n",
    "index_to_class = dict((v,k) for k , v in class_to_index.items())"
   ]
  },
  {
   "cell_type": "code",
   "execution_count": 21,
   "metadata": {
    "colab": {
     "base_uri": "https://localhost:8080/"
    },
    "executionInfo": {
     "elapsed": 28,
     "status": "ok",
     "timestamp": 1633191977183,
     "user": {
      "displayName": "Bipin Kumar",
      "photoUrl": "https://lh3.googleusercontent.com/a/default-user=s64",
      "userId": "04387144792121069990"
     },
     "user_tz": -330
    },
    "id": "_08InVyM5ejc",
    "outputId": "eb4d6921-01b3-4440-ca50-d8a81ece82a2"
   },
   "outputs": [
    {
     "data": {
      "text/plain": [
       "{'joy': 0, 'love': 1, 'surprise': 2, 'anger': 3, 'fear': 4, 'sadness': 5}"
      ]
     },
     "execution_count": 21,
     "metadata": {},
     "output_type": "execute_result"
    }
   ],
   "source": [
    "class_to_index"
   ]
  },
  {
   "cell_type": "code",
   "execution_count": 22,
   "metadata": {
    "colab": {
     "base_uri": "https://localhost:8080/"
    },
    "executionInfo": {
     "elapsed": 26,
     "status": "ok",
     "timestamp": 1633191977184,
     "user": {
      "displayName": "Bipin Kumar",
      "photoUrl": "https://lh3.googleusercontent.com/a/default-user=s64",
      "userId": "04387144792121069990"
     },
     "user_tz": -330
    },
    "id": "gpeDoA6gxIhE",
    "outputId": "6c41605c-d197-49b2-8c3b-cf33907890ff"
   },
   "outputs": [
    {
     "data": {
      "text/plain": [
       "{0: 'joy', 1: 'love', 2: 'surprise', 3: 'anger', 4: 'fear', 5: 'sadness'}"
      ]
     },
     "execution_count": 22,
     "metadata": {},
     "output_type": "execute_result"
    }
   ],
   "source": [
    "index_to_class"
   ]
  },
  {
   "cell_type": "code",
   "execution_count": 23,
   "metadata": {
    "executionInfo": {
     "elapsed": 26,
     "status": "ok",
     "timestamp": 1633191977188,
     "user": {
      "displayName": "Bipin Kumar",
      "photoUrl": "https://lh3.googleusercontent.com/a/default-user=s64",
      "userId": "04387144792121069990"
     },
     "user_tz": -330
    },
    "id": "Jq0WJYsP5ejR"
   },
   "outputs": [],
   "source": [
    "names_to_ids = lambda labels: np.array([class_to_index.get(x) for x in labels])"
   ]
  },
  {
   "cell_type": "code",
   "execution_count": 24,
   "metadata": {
    "colab": {
     "base_uri": "https://localhost:8080/"
    },
    "executionInfo": {
     "elapsed": 27,
     "status": "ok",
     "timestamp": 1633191977190,
     "user": {
      "displayName": "Bipin Kumar",
      "photoUrl": "https://lh3.googleusercontent.com/a/default-user=s64",
      "userId": "04387144792121069990"
     },
     "user_tz": -330
    },
    "id": "v15KnrNC5ejW",
    "outputId": "da5bd901-68eb-456d-d4ad-61debf7fcc81"
   },
   "outputs": [
    {
     "name": "stdout",
     "output_type": "stream",
     "text": [
      "5\n"
     ]
    }
   ],
   "source": [
    "train_labels = names_to_ids(labels)\n",
    "print(train_labels[0])"
   ]
  },
  {
   "cell_type": "markdown",
   "metadata": {
    "id": "c-v0Mnh8xIhP"
   },
   "source": [
    "## Task 6: Creating the Model\n",
    "\n",
    "1. Creating the model\n",
    "2. Compiling the model"
   ]
  },
  {
   "cell_type": "code",
   "execution_count": 25,
   "metadata": {
    "executionInfo": {
     "elapsed": 768,
     "status": "ok",
     "timestamp": 1633191977934,
     "user": {
      "displayName": "Bipin Kumar",
      "photoUrl": "https://lh3.googleusercontent.com/a/default-user=s64",
      "userId": "04387144792121069990"
     },
     "user_tz": -330
    },
    "id": "OpewXxPQ5eji"
   },
   "outputs": [],
   "source": [
    "model = tf.keras.models.Sequential([\n",
    "                                    tf.keras.layers.Embedding(10000, 16, input_length= maxlen),\n",
    "                                    tf.keras.layers.Bidirectional(tf.keras.layers.LSTM(20, return_sequences=True)),\n",
    "                                    tf.keras.layers.Bidirectional(tf.keras.layers.LSTM(20)),\n",
    "                                    tf.keras.layers.Dense(6, activation='softmax')\n",
    "                                    ])\n",
    "model.compile(\n",
    "    loss = 'sparse_categorical_crossentropy',\n",
    "    optimizer='adam',\n",
    "    metrics=['accuracy']\n",
    ")"
   ]
  },
  {
   "cell_type": "markdown",
   "metadata": {
    "id": "1HST_CHjxIhR"
   },
   "source": [
    "## Task 7: Training the Model\n",
    "\n",
    "1. Preparing a validation set\n",
    "2. Training the model"
   ]
  },
  {
   "cell_type": "code",
   "execution_count": 26,
   "metadata": {
    "colab": {
     "base_uri": "https://localhost:8080/"
    },
    "executionInfo": {
     "elapsed": 9,
     "status": "ok",
     "timestamp": 1633191977934,
     "user": {
      "displayName": "Bipin Kumar",
      "photoUrl": "https://lh3.googleusercontent.com/a/default-user=s64",
      "userId": "04387144792121069990"
     },
     "user_tz": -330
    },
    "id": "uTKwxXTrXGQg",
    "outputId": "f62acf56-88c7-4493-cebd-0467b80a1a2f"
   },
   "outputs": [
    {
     "name": "stdout",
     "output_type": "stream",
     "text": [
      "Model: \"sequential\"\n",
      "_________________________________________________________________\n",
      "Layer (type)                 Output Shape              Param #   \n",
      "=================================================================\n",
      "embedding (Embedding)        (None, 50, 16)            160000    \n",
      "_________________________________________________________________\n",
      "bidirectional (Bidirectional (None, 50, 40)            5920      \n",
      "_________________________________________________________________\n",
      "bidirectional_1 (Bidirection (None, 40)                9760      \n",
      "_________________________________________________________________\n",
      "dense (Dense)                (None, 6)                 246       \n",
      "=================================================================\n",
      "Total params: 175,926\n",
      "Trainable params: 175,926\n",
      "Non-trainable params: 0\n",
      "_________________________________________________________________\n"
     ]
    }
   ],
   "source": [
    "model.summary()"
   ]
  },
  {
   "cell_type": "code",
   "execution_count": 27,
   "metadata": {
    "executionInfo": {
     "elapsed": 790,
     "status": "ok",
     "timestamp": 1633191978720,
     "user": {
      "displayName": "Bipin Kumar",
      "photoUrl": "https://lh3.googleusercontent.com/a/default-user=s64",
      "userId": "04387144792121069990"
     },
     "user_tz": -330
    },
    "id": "Ff7F3hCK5ejm"
   },
   "outputs": [],
   "source": [
    "val_tweets, val_labels = get_tweet(val)\n",
    "val_seq = get_sequences(tokenizer, val_tweets)\n",
    "val_labels = names_to_ids(val_labels)"
   ]
  },
  {
   "cell_type": "code",
   "execution_count": 28,
   "metadata": {
    "colab": {
     "base_uri": "https://localhost:8080/"
    },
    "executionInfo": {
     "elapsed": 13,
     "status": "ok",
     "timestamp": 1633191978721,
     "user": {
      "displayName": "Bipin Kumar",
      "photoUrl": "https://lh3.googleusercontent.com/a/default-user=s64",
      "userId": "04387144792121069990"
     },
     "user_tz": -330
    },
    "id": "hlMKaZ3H5ejr",
    "outputId": "29531a9c-da5d-4bd4-fe07-159f5fec2570"
   },
   "outputs": [
    {
     "data": {
      "text/plain": [
       "('im feeling quite sad and sorry for myself but ill snap out of it soon', 5)"
      ]
     },
     "execution_count": 28,
     "metadata": {},
     "output_type": "execute_result"
    }
   ],
   "source": [
    "val_tweets[0], val_labels[0]"
   ]
  },
  {
   "cell_type": "code",
   "execution_count": 29,
   "metadata": {
    "colab": {
     "base_uri": "https://localhost:8080/"
    },
    "executionInfo": {
     "elapsed": 259684,
     "status": "ok",
     "timestamp": 1633192238397,
     "user": {
      "displayName": "Bipin Kumar",
      "photoUrl": "https://lh3.googleusercontent.com/a/default-user=s64",
      "userId": "04387144792121069990"
     },
     "user_tz": -330
    },
    "id": "bzBqnWQ-5ejw",
    "outputId": "5629d9c5-7dc8-4691-fc31-16e1171e10de"
   },
   "outputs": [
    {
     "name": "stdout",
     "output_type": "stream",
     "text": [
      "Epoch 1/20\n",
      "500/500 [==============================] - 170s 332ms/step - loss: 1.5089 - accuracy: 0.3799 - val_loss: 0.7916 - val_accuracy: 0.6940\n",
      "Epoch 2/20\n",
      "500/500 [==============================] - 157s 314ms/step - loss: 0.6299 - accuracy: 0.7442 - val_loss: 0.5599 - val_accuracy: 0.7990\n",
      "Epoch 3/20\n",
      "500/500 [==============================] - 152s 305ms/step - loss: 0.3584 - accuracy: 0.8728 - val_loss: 0.4558 - val_accuracy: 0.8470\n",
      "Epoch 4/20\n",
      "500/500 [==============================] - 152s 304ms/step - loss: 0.2136 - accuracy: 0.9291 - val_loss: 0.4125 - val_accuracy: 0.8735\n",
      "Epoch 5/20\n",
      "500/500 [==============================] - 149s 297ms/step - loss: 0.1568 - accuracy: 0.9464 - val_loss: 0.4036 - val_accuracy: 0.8750\n",
      "Epoch 6/20\n",
      "500/500 [==============================] - 148s 296ms/step - loss: 0.1156 - accuracy: 0.9629 - val_loss: 0.4201 - val_accuracy: 0.8755\n",
      "Epoch 7/20\n",
      "500/500 [==============================] - 147s 293ms/step - loss: 0.1060 - accuracy: 0.9645 - val_loss: 0.4033 - val_accuracy: 0.8820\n",
      "Epoch 8/20\n",
      "500/500 [==============================] - 146s 291ms/step - loss: 0.0890 - accuracy: 0.9704 - val_loss: 0.4406 - val_accuracy: 0.8775\n",
      "Epoch 9/20\n",
      "500/500 [==============================] - 146s 292ms/step - loss: 0.0724 - accuracy: 0.9756 - val_loss: 0.4303 - val_accuracy: 0.8755\n"
     ]
    }
   ],
   "source": [
    "h = model.fit(\n",
    "    padded_train_seq, train_labels,\n",
    "    validation_data=(val_seq,val_labels),\n",
    "    epochs=20,\n",
    "    callbacks=[\n",
    "               tf.keras.callbacks.EarlyStopping(monitor='val_accuracy', patience=2)\n",
    "    ]\n",
    ")"
   ]
  },
  {
   "cell_type": "markdown",
   "metadata": {
    "id": "EdsJyMTLxIhX"
   },
   "source": [
    "## Task 8: Evaluating the Model\n",
    "\n",
    "1. Visualizing training history\n",
    "2. Prepraring a test set\n",
    "3. A look at individual predictions on the test set\n",
    "4. A look at all predictions on the test set"
   ]
  },
  {
   "cell_type": "code",
   "execution_count": 30,
   "metadata": {
    "colab": {
     "base_uri": "https://localhost:8080/",
     "height": 392
    },
    "executionInfo": {
     "elapsed": 1111,
     "status": "ok",
     "timestamp": 1633192239489,
     "user": {
      "displayName": "Bipin Kumar",
      "photoUrl": "https://lh3.googleusercontent.com/a/default-user=s64",
      "userId": "04387144792121069990"
     },
     "user_tz": -330
    },
    "id": "ENCfvXeLxIhX",
    "outputId": "c36bd68e-d2e5-4c72-b2c5-43ce5088e6e0"
   },
   "outputs": [
    {
     "data": {
      "image/png": "[encoded data removed]",
      "text/plain": [
       "<Figure size 1152x432 with 2 Axes>"
      ]
     },
     "metadata": {
      "needs_background": "light"
     },
     "output_type": "display_data"
    }
   ],
   "source": [
    "show_history(h)"
   ]
  },
  {
   "cell_type": "code",
   "execution_count": 31,
   "metadata": {
    "executionInfo": {
     "elapsed": 19,
     "status": "ok",
     "timestamp": 1633192239491,
     "user": {
      "displayName": "Bipin Kumar",
      "photoUrl": "https://lh3.googleusercontent.com/a/default-user=s64",
      "userId": "04387144792121069990"
     },
     "user_tz": -330
    },
    "id": "kWuzoz8uxIha"
   },
   "outputs": [],
   "source": [
    "test_tweets, test_labels = get_tweet(test)\n",
    "test_seq = get_sequences(tokenizer,test_tweets)\n",
    "test_labels = names_to_ids(test_labels)"
   ]
  },
  {
   "cell_type": "code",
   "execution_count": 32,
   "metadata": {
    "colab": {
     "base_uri": "https://localhost:8080/"
    },
    "executionInfo": {
     "elapsed": 656,
     "status": "ok",
     "timestamp": 1633192240130,
     "user": {
      "displayName": "Bipin Kumar",
      "photoUrl": "https://lh3.googleusercontent.com/a/default-user=s64",
      "userId": "04387144792121069990"
     },
     "user_tz": -330
    },
    "id": "7vRVJ_2SxIhc",
    "outputId": "d2d54cf2-12e3-4531-e54d-2b91fd9dc59b"
   },
   "outputs": [
    {
     "name": "stdout",
     "output_type": "stream",
     "text": [
      "63/63 [==============================] - 5s 77ms/step - loss: 0.4135 - accuracy: 0.8785\n"
     ]
    }
   ],
   "source": [
    "_ = model.evaluate(test_seq, test_labels)"
   ]
  },
  {
   "cell_type": "code",
   "execution_count": 33,
   "metadata": {
    "colab": {
     "base_uri": "https://localhost:8080/"
    },
    "executionInfo": {
     "elapsed": 924,
     "status": "ok",
     "timestamp": 1633192241048,
     "user": {
      "displayName": "Bipin Kumar",
      "photoUrl": "https://lh3.googleusercontent.com/a/default-user=s64",
      "userId": "04387144792121069990"
     },
     "user_tz": -330
    },
    "id": "rh638vHG5ej6",
    "outputId": "1a8ff515-45e7-41ce-9485-c762e4a82fc3"
   },
   "outputs": [
    {
     "name": "stdout",
     "output_type": "stream",
     "text": [
      "Sentence:  i feel crappy i eat crappy\n",
      "Emotion:  sadness\n",
      "Predicted Emotion:  sadness\n"
     ]
    }
   ],
   "source": [
    "i = random.randint(0, len(test_labels)-1)\n",
    "print('Sentence: ', test_tweets[i])\n",
    "print('Emotion: ', index_to_class[test_labels[i]])\n",
    "\n",
    "p = model.predict(np.expand_dims(test_seq[i], axis=0))[0]\n",
    "pred_class = index_to_class[np.argmax(p).astype('uint8')]\n",
    "\n",
    "print('Predicted Emotion: ', pred_class)"
   ]
  },
  {
   "cell_type": "code",
   "execution_count": 34,
   "metadata": {
    "executionInfo": {
     "elapsed": 1012,
     "status": "ok",
     "timestamp": 1633192597267,
     "user": {
      "displayName": "Bipin Kumar",
      "photoUrl": "https://lh3.googleusercontent.com/a/default-user=s64",
      "userId": "04387144792121069990"
     },
     "user_tz": -330
    },
    "id": "hHl5SVCFxIhh"
   },
   "outputs": [],
   "source": [
    "preds=model.predict(test_seq) \n",
    "preds=np.argmax(preds,axis=1)"
   ]
  },
  {
   "cell_type": "code",
   "execution_count": 35,
   "metadata": {
    "colab": {
     "base_uri": "https://localhost:8080/"
    },
    "executionInfo": {
     "elapsed": 7,
     "status": "ok",
     "timestamp": 1633192600342,
     "user": {
      "displayName": "Bipin Kumar",
      "photoUrl": "https://lh3.googleusercontent.com/a/default-user=s64",
      "userId": "04387144792121069990"
     },
     "user_tz": -330
    },
    "id": "NC8YQ0OexIhj",
    "outputId": "152fb5ae-eada-49f1-be90-6b1c1ec9fb6a"
   },
   "outputs": [
    {
     "data": {
      "text/plain": [
       "array([5, 5, 5, ..., 0, 0, 2])"
      ]
     },
     "execution_count": 35,
     "metadata": {},
     "output_type": "execute_result"
    }
   ],
   "source": [
    "preds"
   ]
  },
  {
   "cell_type": "code",
   "execution_count": 36,
   "metadata": {
    "colab": {
     "base_uri": "https://localhost:8080/",
     "height": 472
    },
    "executionInfo": {
     "elapsed": 952,
     "status": "ok",
     "timestamp": 1633192603909,
     "user": {
      "displayName": "Bipin Kumar",
      "photoUrl": "https://lh3.googleusercontent.com/a/default-user=s64",
      "userId": "04387144792121069990"
     },
     "user_tz": -330
    },
    "id": "yD2cej9c2LpG",
    "outputId": "185a0432-786d-4265-964c-a24f40116a43"
   },
   "outputs": [
    {
     "data": {
      "image/png": "[encoded data removed]",
      "text/plain": [
       "<Figure size 576x576 with 2 Axes>"
      ]
     },
     "metadata": {
      "needs_background": "light"
     },
     "output_type": "display_data"
    }
   ],
   "source": [
    "show_confusion_matrix(test_labels, preds, list(classes))"
   ]
  },
  {
   "cell_type": "code",
   "execution_count": null,
   "metadata": {
    "id": "lWzZHo3E2ZB_"
   },
   "outputs": [],
   "source": []
  }
 ],
 "metadata": {
  "accelerator": "GPU",
  "colab": {
   "collapsed_sections": [],
   "name": "Copy of Tweet Emotion Recognition - Learner.ipynb",
   "provenance": [
    {
     "file_id": "1ZfJY10peZyo8NRBhtNJNcIUY_ehJs_Aw",
     "timestamp": 1633177189758
    }
   ]
  },
  "kernelspec": {
   "display_name": "Python 3",
   "language": "python",
   "name": "python3"
  },
  "language_info": {
   "codemirror_mode": {
    "name": "ipython",
    "version": 3
   },
   "file_extension": ".py",
   "mimetype": "text/x-python",
   "name": "python",
   "nbconvert_exporter": "python",
   "pygments_lexer": "ipython3",
   "version": "3.8.8"
  }
 },
 "nbformat": 4,
 "nbformat_minor": 1
}
