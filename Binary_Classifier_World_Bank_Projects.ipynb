{
 "cells": [
  {
   "cell_type": "markdown",
   "metadata": {},
   "source": [
    "# Importing Necessary Tensorflow Packages WIth NLP Data and Bert Models"
   ]
  },
  {
   "cell_type": "code",
   "execution_count": null,
   "metadata": {
    "id": "DhD-HxDkBbET"
   },
   "outputs": [],
   "source": [
    "import tensorflow as tf\n",
    "print(tf.version.VERSION)\n",
    "!pip install -q tensorflow == 2.3.0\n",
    "!git clone --depth 1 -b v2.3.0 https://github.com/tensorflow/models.git\n",
    "!pip install -Uqr models/official/requirements.txt"
   ]
  },
  {
   "cell_type": "code",
   "execution_count": null,
   "metadata": {
    "id": "HT_8Nm0WEAhc"
   },
   "outputs": [],
   "source": [
    "import tensorflow_hub as hub \n",
    "import sys \n",
    "sys.path.append('models') \n",
    "from official.nlp.data import classifier_data_lib \n",
    "from official.nlp.bert import tokenization \n",
    "from official.nlp import optimization"
   ]
  },
  {
   "cell_type": "code",
   "execution_count": null,
   "metadata": {
    "id": "8tzDnyTSEh5l"
   },
   "outputs": [],
   "source": [
    "import pandas as pd\n",
    "import numpy as np\n",
    "from sklearn.model_selection import train_test_split"
   ]
  },
  {
   "cell_type": "markdown",
   "metadata": {},
   "source": [
    "# Importing World Bank Project Dataset"
   ]
  },
  {
   "cell_type": "code",
   "execution_count": null,
   "metadata": {
    "id": "9Y_-iFlcEweT"
   },
   "outputs": [],
   "source": [
    "data = pd.read_excel(r'/content/World_Bank_Projects_downloaded_6_14_2022.xlsx', skiprows=2)"
   ]
  },
  {
   "cell_type": "code",
   "execution_count": null,
   "metadata": {
    "colab": {
     "base_uri": "https://localhost:8080/"
    },
    "id": "oalj_gZwEyd7",
    "outputId": "609d7340-3666-40c5-970e-7d51f1dfe428"
   },
   "outputs": [
    {
     "data": {
      "text/plain": [
       "(21543, 27)"
      ]
     },
     "execution_count": 6,
     "metadata": {},
     "output_type": "execute_result"
    }
   ],
   "source": [
    "data.shape"
   ]
  },
  {
   "cell_type": "markdown",
   "metadata": {},
   "source": [
    "# Dropping Null Values And Other Labels Which Are Not Important For Classification"
   ]
  },
  {
   "cell_type": "code",
   "execution_count": null,
   "metadata": {
    "id": "tRgE8SL9E1mT"
   },
   "outputs": [],
   "source": [
    "data.dropna(subset = ['projectstatusdisplay'], axis=0, inplace = True)\n",
    "data.dropna(subset = ['pdo'], axis=0, inplace = True)"
   ]
  },
  {
   "cell_type": "code",
   "execution_count": null,
   "metadata": {
    "colab": {
     "base_uri": "https://localhost:8080/"
    },
    "id": "bvK8lWRUE2_U",
    "outputId": "dbd1d66c-3f1d-46fe-9da7-15f7dd48ebe5"
   },
   "outputs": [
    {
     "data": {
      "text/plain": [
       "(11577, 27)"
      ]
     },
     "execution_count": 8,
     "metadata": {},
     "output_type": "execute_result"
    }
   ],
   "source": [
    "data.shape"
   ]
  },
  {
   "cell_type": "code",
   "execution_count": null,
   "metadata": {
    "id": "bdYPsgWOE72c"
   },
   "outputs": [],
   "source": [
    "data.drop(data[(data['projectstatusdisplay'] == 'Active') | (data['projectstatusdisplay'] == 'Pipeline')].index, axis =0, inplace=True)"
   ]
  },
  {
   "cell_type": "code",
   "execution_count": null,
   "metadata": {
    "colab": {
     "base_uri": "https://localhost:8080/"
    },
    "id": "dwLx7NL3E9NN",
    "outputId": "e81949bc-cb77-49c8-a216-af4c2ecc7723"
   },
   "outputs": [
    {
     "data": {
      "text/plain": [
       "(7600, 27)"
      ]
     },
     "execution_count": 10,
     "metadata": {},
     "output_type": "execute_result"
    }
   ],
   "source": [
    "data.shape"
   ]
  },
  {
   "cell_type": "code",
   "execution_count": null,
   "metadata": {
    "colab": {
     "base_uri": "https://localhost:8080/",
     "height": 1000
    },
    "id": "oE6W6N2vFc1q",
    "outputId": "62132d62-7a59-4b6b-fa04-f0f136614625"
   },
   "outputs": [
    {
     "data": {
      "text/html": [
       "\n",
       "  <div id=\"df-1a889681-0dc7-45cf-a1d1-54ef8b735a41\">\n",
       "    <div class=\"colab-df-container\">\n",
       "      <div>\n",
       "<style scoped>\n",
       "    .dataframe tbody tr th:only-of-type {\n",
       "        vertical-align: middle;\n",
       "    }\n",
       "\n",
       "    .dataframe tbody tr th {\n",
       "        vertical-align: top;\n",
       "    }\n",
       "\n",
       "    .dataframe thead th {\n",
       "        text-align: right;\n",
       "    }\n",
       "</style>\n",
       "<table border=\"1\" class=\"dataframe\">\n",
       "  <thead>\n",
       "    <tr style=\"text-align: right;\">\n",
       "      <th></th>\n",
       "      <th>id</th>\n",
       "      <th>regionname</th>\n",
       "      <th>countryname</th>\n",
       "      <th>projectstatusdisplay</th>\n",
       "      <th>last_stage_reached_name</th>\n",
       "      <th>project_name</th>\n",
       "      <th>pdo</th>\n",
       "      <th>impagency</th>\n",
       "      <th>cons_serv_reqd_ind</th>\n",
       "      <th>url</th>\n",
       "      <th>...</th>\n",
       "      <th>grantamt</th>\n",
       "      <th>borrower</th>\n",
       "      <th>lendinginstr</th>\n",
       "      <th>envassesmentcategorycode</th>\n",
       "      <th>esrc_ovrl_risk_rate</th>\n",
       "      <th>sector1</th>\n",
       "      <th>sector2</th>\n",
       "      <th>sector3</th>\n",
       "      <th>theme1</th>\n",
       "      <th>theme2</th>\n",
       "    </tr>\n",
       "  </thead>\n",
       "  <tbody>\n",
       "    <tr>\n",
       "      <th>2</th>\n",
       "      <td>P252337</td>\n",
       "      <td>Eastern and Southern Africa</td>\n",
       "      <td>Republic of Kenya</td>\n",
       "      <td>Dropped</td>\n",
       "      <td>Concept Review</td>\n",
       "      <td>Kenya Devolution and Service Delivery</td>\n",
       "      <td>To improve citizen and government access to co...</td>\n",
       "      <td>Kenya National Bureau of Statistics</td>\n",
       "      <td>NaN</td>\n",
       "      <td>http://projects.worldbank.org/P252337/null?lan...</td>\n",
       "      <td>...</td>\n",
       "      <td>340000.0</td>\n",
       "      <td>Kenya National Bureau of Statistics</td>\n",
       "      <td>Investment Project Financing</td>\n",
       "      <td>C</td>\n",
       "      <td>NaN</td>\n",
       "      <td>NaN</td>\n",
       "      <td>NaN</td>\n",
       "      <td>NaN</td>\n",
       "      <td>Public expenditure, financial management and p...</td>\n",
       "      <td>Decentralization</td>\n",
       "    </tr>\n",
       "    <tr>\n",
       "      <th>194</th>\n",
       "      <td>P178571</td>\n",
       "      <td>South Asia</td>\n",
       "      <td>Republic of India</td>\n",
       "      <td>Dropped</td>\n",
       "      <td>Concept Review</td>\n",
       "      <td>Strengthening Teaching-Learning and Results fo...</td>\n",
       "      <td>The Project Development Objective (PDO) of the...</td>\n",
       "      <td>NaN</td>\n",
       "      <td>NaN</td>\n",
       "      <td>http://projects.worldbank.org/P178571/null?lan...</td>\n",
       "      <td>...</td>\n",
       "      <td>0.0</td>\n",
       "      <td>NaN</td>\n",
       "      <td>Program-for-Results Financing</td>\n",
       "      <td>NaN</td>\n",
       "      <td>NaN</td>\n",
       "      <td>NaN</td>\n",
       "      <td>NaN</td>\n",
       "      <td>NaN</td>\n",
       "      <td>NaN</td>\n",
       "      <td>NaN</td>\n",
       "    </tr>\n",
       "    <tr>\n",
       "      <th>258</th>\n",
       "      <td>P178288</td>\n",
       "      <td>Europe and Central Asia</td>\n",
       "      <td>Romania</td>\n",
       "      <td>Dropped</td>\n",
       "      <td>Concept Review</td>\n",
       "      <td>Emergency Response and Preparedness Program-fo...</td>\n",
       "      <td>To strengthen the capacity of Romanian institu...</td>\n",
       "      <td>Ministry of Health, Department for Emergency S...</td>\n",
       "      <td>NaN</td>\n",
       "      <td>http://projects.worldbank.org/P178288/null?lan...</td>\n",
       "      <td>...</td>\n",
       "      <td>0.0</td>\n",
       "      <td>Ministry of Finance</td>\n",
       "      <td>Program-for-Results Financing</td>\n",
       "      <td>NaN</td>\n",
       "      <td>NaN</td>\n",
       "      <td>NaN</td>\n",
       "      <td>NaN</td>\n",
       "      <td>NaN</td>\n",
       "      <td>NaN</td>\n",
       "      <td>NaN</td>\n",
       "    </tr>\n",
       "    <tr>\n",
       "      <th>473</th>\n",
       "      <td>P177493</td>\n",
       "      <td>Europe and Central Asia</td>\n",
       "      <td>Ukraine</td>\n",
       "      <td>Dropped</td>\n",
       "      <td>Concept Review</td>\n",
       "      <td>Sustainable Energy Efficiency in Municipal Ser...</td>\n",
       "      <td>The development objective is to increase energ...</td>\n",
       "      <td>Ukrexim Bank</td>\n",
       "      <td>NaN</td>\n",
       "      <td>http://projects.worldbank.org/P177493/null?lan...</td>\n",
       "      <td>...</td>\n",
       "      <td>0.0</td>\n",
       "      <td>Ukrexim Bank</td>\n",
       "      <td>Investment Project Financing</td>\n",
       "      <td>NaN</td>\n",
       "      <td>Moderate</td>\n",
       "      <td>NaN</td>\n",
       "      <td>NaN</td>\n",
       "      <td>NaN</td>\n",
       "      <td>NaN</td>\n",
       "      <td>NaN</td>\n",
       "    </tr>\n",
       "    <tr>\n",
       "      <th>657</th>\n",
       "      <td>P176771</td>\n",
       "      <td>Latin America and Caribbean</td>\n",
       "      <td>United Mexican States</td>\n",
       "      <td>Dropped</td>\n",
       "      <td>Concept Review</td>\n",
       "      <td>Mexico: Sustainable Urban Development</td>\n",
       "      <td>To improve living conditions of vulnerable hou...</td>\n",
       "      <td>Secretariat for Agrarian, Territorial and Urba...</td>\n",
       "      <td>NaN</td>\n",
       "      <td>http://projects.worldbank.org/P176771/null?lan...</td>\n",
       "      <td>...</td>\n",
       "      <td>0.0</td>\n",
       "      <td>United Mexican States</td>\n",
       "      <td>Investment Project Financing</td>\n",
       "      <td>NaN</td>\n",
       "      <td>Substantial</td>\n",
       "      <td>NaN</td>\n",
       "      <td>NaN</td>\n",
       "      <td>NaN</td>\n",
       "      <td>NaN</td>\n",
       "      <td>NaN</td>\n",
       "    </tr>\n",
       "    <tr>\n",
       "      <th>...</th>\n",
       "      <td>...</td>\n",
       "      <td>...</td>\n",
       "      <td>...</td>\n",
       "      <td>...</td>\n",
       "      <td>...</td>\n",
       "      <td>...</td>\n",
       "      <td>...</td>\n",
       "      <td>...</td>\n",
       "      <td>...</td>\n",
       "      <td>...</td>\n",
       "      <td>...</td>\n",
       "      <td>...</td>\n",
       "      <td>...</td>\n",
       "      <td>...</td>\n",
       "      <td>...</td>\n",
       "      <td>...</td>\n",
       "      <td>...</td>\n",
       "      <td>...</td>\n",
       "      <td>...</td>\n",
       "      <td>...</td>\n",
       "      <td>...</td>\n",
       "    </tr>\n",
       "    <tr>\n",
       "      <th>21185</th>\n",
       "      <td>P000527</td>\n",
       "      <td>Western and Central Africa</td>\n",
       "      <td>Republic of Chad</td>\n",
       "      <td>Closed</td>\n",
       "      <td>Bank Approved</td>\n",
       "      <td>Education Sector Reform Project</td>\n",
       "      <td>The revised PDO is to (i) improve access and e...</td>\n",
       "      <td>NaN</td>\n",
       "      <td>NaN</td>\n",
       "      <td>http://projects.worldbank.org/P000527/educatio...</td>\n",
       "      <td>...</td>\n",
       "      <td>0.0</td>\n",
       "      <td>NaN</td>\n",
       "      <td>Specific Investment Loan</td>\n",
       "      <td>B</td>\n",
       "      <td>NaN</td>\n",
       "      <td>Primary Education</td>\n",
       "      <td>Central Government (Central Agencies)</td>\n",
       "      <td>Social Protection</td>\n",
       "      <td>Education for all</td>\n",
       "      <td>Decentralization</td>\n",
       "    </tr>\n",
       "    <tr>\n",
       "      <th>21332</th>\n",
       "      <td>P000309</td>\n",
       "      <td>Western and Central Africa</td>\n",
       "      <td>Burkina Faso</td>\n",
       "      <td>Closed</td>\n",
       "      <td>Bank Approved</td>\n",
       "      <td>Basic Education Sector Project</td>\n",
       "      <td>The project development objective i s to assis...</td>\n",
       "      <td>NaN</td>\n",
       "      <td>NaN</td>\n",
       "      <td>http://projects.worldbank.org/P000309/basic-ed...</td>\n",
       "      <td>...</td>\n",
       "      <td>0.0</td>\n",
       "      <td>NaN</td>\n",
       "      <td>Specific Investment Loan</td>\n",
       "      <td>B</td>\n",
       "      <td>NaN</td>\n",
       "      <td>Primary Education</td>\n",
       "      <td>Adult, Basic and Continuing Education</td>\n",
       "      <td>Tertiary Education</td>\n",
       "      <td>Rural services and infrastructure</td>\n",
       "      <td>Gender</td>\n",
       "    </tr>\n",
       "    <tr>\n",
       "      <th>21334</th>\n",
       "      <td>P000306</td>\n",
       "      <td>Western and Central Africa</td>\n",
       "      <td>Burkina Faso</td>\n",
       "      <td>Closed</td>\n",
       "      <td>Bank Approved</td>\n",
       "      <td>Ouagadougou Water Supply Project</td>\n",
       "      <td>The objectives of the Project are to assist th...</td>\n",
       "      <td>NaN</td>\n",
       "      <td>NaN</td>\n",
       "      <td>http://projects.worldbank.org/P000306/ouagadou...</td>\n",
       "      <td>...</td>\n",
       "      <td>0.0</td>\n",
       "      <td>NaN</td>\n",
       "      <td>Specific Investment Loan</td>\n",
       "      <td>A</td>\n",
       "      <td>NaN</td>\n",
       "      <td>Water Supply</td>\n",
       "      <td>NaN</td>\n",
       "      <td>NaN</td>\n",
       "      <td>Urban services and housing for the poor</td>\n",
       "      <td>NaN</td>\n",
       "    </tr>\n",
       "    <tr>\n",
       "      <th>21470</th>\n",
       "      <td>P000119</td>\n",
       "      <td>Western and Central Africa</td>\n",
       "      <td>Republic of Benin</td>\n",
       "      <td>Dropped</td>\n",
       "      <td>Concept Review</td>\n",
       "      <td>Energy Project (07)</td>\n",
       "      <td>ENERGY SECTOR PROJECT INCLUDES POWER COMPONENT...</td>\n",
       "      <td>NaN</td>\n",
       "      <td>NaN</td>\n",
       "      <td>http://projects.worldbank.org/P000119/energy-p...</td>\n",
       "      <td>...</td>\n",
       "      <td>0.0</td>\n",
       "      <td>NaN</td>\n",
       "      <td>Specific Investment Loan</td>\n",
       "      <td>C</td>\n",
       "      <td>NaN</td>\n",
       "      <td>Power</td>\n",
       "      <td>NaN</td>\n",
       "      <td>NaN</td>\n",
       "      <td>Other financial and private sector development</td>\n",
       "      <td>Regional integration</td>\n",
       "    </tr>\n",
       "    <tr>\n",
       "      <th>21535</th>\n",
       "      <td>P000031</td>\n",
       "      <td>Eastern and Southern Africa</td>\n",
       "      <td>Republic of Angola</td>\n",
       "      <td>Dropped</td>\n",
       "      <td>Concept Review</td>\n",
       "      <td>Manpower Training Project</td>\n",
       "      <td>THE PROJECT WILL (A) PROMOTE SKILLS DEVELOPMEN...</td>\n",
       "      <td>NaN</td>\n",
       "      <td>NaN</td>\n",
       "      <td>http://projects.worldbank.org/P000031/manpower...</td>\n",
       "      <td>...</td>\n",
       "      <td>0.0</td>\n",
       "      <td>NaN</td>\n",
       "      <td>Specific Investment Loan</td>\n",
       "      <td>C</td>\n",
       "      <td>NaN</td>\n",
       "      <td>Social Protection</td>\n",
       "      <td>Other Education</td>\n",
       "      <td>NaN</td>\n",
       "      <td>Other social protection and risk management</td>\n",
       "      <td>NaN</td>\n",
       "    </tr>\n",
       "  </tbody>\n",
       "</table>\n",
       "<p>7600 rows × 27 columns</p>\n",
       "</div>\n",
       "      <button class=\"colab-df-convert\" onclick=\"convertToInteractive('df-1a889681-0dc7-45cf-a1d1-54ef8b735a41')\"\n",
       "              title=\"Convert this dataframe to an interactive table.\"\n",
       "              style=\"display:none;\">\n",
       "        \n",
       "  <svg xmlns=\"http://www.w3.org/2000/svg\" height=\"24px\"viewBox=\"0 0 24 24\"\n",
       "       width=\"24px\">\n",
       "    <path d=\"M0 0h24v24H0V0z\" fill=\"none\"/>\n",
       "    <path d=\"M18.56 5.44l.94 2.06.94-2.06 2.06-.94-2.06-.94-.94-2.06-.94 2.06-2.06.94zm-11 1L8.5 8.5l.94-2.06 2.06-.94-2.06-.94L8.5 2.5l-.94 2.06-2.06.94zm10 10l.94 2.06.94-2.06 2.06-.94-2.06-.94-.94-2.06-.94 2.06-2.06.94z\"/><path d=\"M17.41 7.96l-1.37-1.37c-.4-.4-.92-.59-1.43-.59-.52 0-1.04.2-1.43.59L10.3 9.45l-7.72 7.72c-.78.78-.78 2.05 0 2.83L4 21.41c.39.39.9.59 1.41.59.51 0 1.02-.2 1.41-.59l7.78-7.78 2.81-2.81c.8-.78.8-2.07 0-2.86zM5.41 20L4 18.59l7.72-7.72 1.47 1.35L5.41 20z\"/>\n",
       "  </svg>\n",
       "      </button>\n",
       "      \n",
       "  <style>\n",
       "    .colab-df-container {\n",
       "      display:flex;\n",
       "      flex-wrap:wrap;\n",
       "      gap: 12px;\n",
       "    }\n",
       "\n",
       "    .colab-df-convert {\n",
       "      background-color: #E8F0FE;\n",
       "      border: none;\n",
       "      border-radius: 50%;\n",
       "      cursor: pointer;\n",
       "      display: none;\n",
       "      fill: #1967D2;\n",
       "      height: 32px;\n",
       "      padding: 0 0 0 0;\n",
       "      width: 32px;\n",
       "    }\n",
       "\n",
       "    .colab-df-convert:hover {\n",
       "      background-color: #E2EBFA;\n",
       "      box-shadow: 0px 1px 2px rgba(60, 64, 67, 0.3), 0px 1px 3px 1px rgba(60, 64, 67, 0.15);\n",
       "      fill: #174EA6;\n",
       "    }\n",
       "\n",
       "    [theme=dark] .colab-df-convert {\n",
       "      background-color: #3B4455;\n",
       "      fill: #D2E3FC;\n",
       "    }\n",
       "\n",
       "    [theme=dark] .colab-df-convert:hover {\n",
       "      background-color: #434B5C;\n",
       "      box-shadow: 0px 1px 3px 1px rgba(0, 0, 0, 0.15);\n",
       "      filter: drop-shadow(0px 1px 2px rgba(0, 0, 0, 0.3));\n",
       "      fill: #FFFFFF;\n",
       "    }\n",
       "  </style>\n",
       "\n",
       "      <script>\n",
       "        const buttonEl =\n",
       "          document.querySelector('#df-1a889681-0dc7-45cf-a1d1-54ef8b735a41 button.colab-df-convert');\n",
       "        buttonEl.style.display =\n",
       "          google.colab.kernel.accessAllowed ? 'block' : 'none';\n",
       "\n",
       "        async function convertToInteractive(key) {\n",
       "          const element = document.querySelector('#df-1a889681-0dc7-45cf-a1d1-54ef8b735a41');\n",
       "          const dataTable =\n",
       "            await google.colab.kernel.invokeFunction('convertToInteractive',\n",
       "                                                     [key], {});\n",
       "          if (!dataTable) return;\n",
       "\n",
       "          const docLinkHtml = 'Like what you see? Visit the ' +\n",
       "            '<a target=\"_blank\" href=https://colab.research.google.com/notebooks/data_table.ipynb>data table notebook</a>'\n",
       "            + ' to learn more about interactive tables.';\n",
       "          element.innerHTML = '';\n",
       "          dataTable['output_type'] = 'display_data';\n",
       "          await google.colab.output.renderOutput(dataTable, element);\n",
       "          const docLink = document.createElement('div');\n",
       "          docLink.innerHTML = docLinkHtml;\n",
       "          element.appendChild(docLink);\n",
       "        }\n",
       "      </script>\n",
       "    </div>\n",
       "  </div>\n",
       "  "
      ],
      "text/plain": [
       "            id                   regionname            countryname  \\\n",
       "2      P252337  Eastern and Southern Africa      Republic of Kenya   \n",
       "194    P178571                   South Asia      Republic of India   \n",
       "258    P178288      Europe and Central Asia                Romania   \n",
       "473    P177493      Europe and Central Asia                Ukraine   \n",
       "657    P176771  Latin America and Caribbean  United Mexican States   \n",
       "...        ...                          ...                    ...   \n",
       "21185  P000527   Western and Central Africa       Republic of Chad   \n",
       "21332  P000309   Western and Central Africa           Burkina Faso   \n",
       "21334  P000306   Western and Central Africa           Burkina Faso   \n",
       "21470  P000119   Western and Central Africa      Republic of Benin   \n",
       "21535  P000031  Eastern and Southern Africa     Republic of Angola   \n",
       "\n",
       "      projectstatusdisplay last_stage_reached_name  \\\n",
       "2                  Dropped          Concept Review   \n",
       "194                Dropped          Concept Review   \n",
       "258                Dropped          Concept Review   \n",
       "473                Dropped          Concept Review   \n",
       "657                Dropped          Concept Review   \n",
       "...                    ...                     ...   \n",
       "21185               Closed           Bank Approved   \n",
       "21332               Closed           Bank Approved   \n",
       "21334               Closed           Bank Approved   \n",
       "21470              Dropped          Concept Review   \n",
       "21535              Dropped          Concept Review   \n",
       "\n",
       "                                            project_name  \\\n",
       "2                  Kenya Devolution and Service Delivery   \n",
       "194    Strengthening Teaching-Learning and Results fo...   \n",
       "258    Emergency Response and Preparedness Program-fo...   \n",
       "473    Sustainable Energy Efficiency in Municipal Ser...   \n",
       "657                Mexico: Sustainable Urban Development   \n",
       "...                                                  ...   \n",
       "21185                    Education Sector Reform Project   \n",
       "21332                     Basic Education Sector Project   \n",
       "21334                   Ouagadougou Water Supply Project   \n",
       "21470                                Energy Project (07)   \n",
       "21535                          Manpower Training Project   \n",
       "\n",
       "                                                     pdo  \\\n",
       "2      To improve citizen and government access to co...   \n",
       "194    The Project Development Objective (PDO) of the...   \n",
       "258    To strengthen the capacity of Romanian institu...   \n",
       "473    The development objective is to increase energ...   \n",
       "657    To improve living conditions of vulnerable hou...   \n",
       "...                                                  ...   \n",
       "21185  The revised PDO is to (i) improve access and e...   \n",
       "21332  The project development objective i s to assis...   \n",
       "21334  The objectives of the Project are to assist th...   \n",
       "21470  ENERGY SECTOR PROJECT INCLUDES POWER COMPONENT...   \n",
       "21535  THE PROJECT WILL (A) PROMOTE SKILLS DEVELOPMEN...   \n",
       "\n",
       "                                               impagency cons_serv_reqd_ind  \\\n",
       "2                    Kenya National Bureau of Statistics                NaN   \n",
       "194                                                  NaN                NaN   \n",
       "258    Ministry of Health, Department for Emergency S...                NaN   \n",
       "473                                         Ukrexim Bank                NaN   \n",
       "657    Secretariat for Agrarian, Territorial and Urba...                NaN   \n",
       "...                                                  ...                ...   \n",
       "21185                                                NaN                NaN   \n",
       "21332                                                NaN                NaN   \n",
       "21334                                                NaN                NaN   \n",
       "21470                                                NaN                NaN   \n",
       "21535                                                NaN                NaN   \n",
       "\n",
       "                                                     url  ...  grantamt  \\\n",
       "2      http://projects.worldbank.org/P252337/null?lan...  ...  340000.0   \n",
       "194    http://projects.worldbank.org/P178571/null?lan...  ...       0.0   \n",
       "258    http://projects.worldbank.org/P178288/null?lan...  ...       0.0   \n",
       "473    http://projects.worldbank.org/P177493/null?lan...  ...       0.0   \n",
       "657    http://projects.worldbank.org/P176771/null?lan...  ...       0.0   \n",
       "...                                                  ...  ...       ...   \n",
       "21185  http://projects.worldbank.org/P000527/educatio...  ...       0.0   \n",
       "21332  http://projects.worldbank.org/P000309/basic-ed...  ...       0.0   \n",
       "21334  http://projects.worldbank.org/P000306/ouagadou...  ...       0.0   \n",
       "21470  http://projects.worldbank.org/P000119/energy-p...  ...       0.0   \n",
       "21535  http://projects.worldbank.org/P000031/manpower...  ...       0.0   \n",
       "\n",
       "                                  borrower                   lendinginstr  \\\n",
       "2      Kenya National Bureau of Statistics   Investment Project Financing   \n",
       "194                                    NaN  Program-for-Results Financing   \n",
       "258                    Ministry of Finance  Program-for-Results Financing   \n",
       "473                           Ukrexim Bank   Investment Project Financing   \n",
       "657                  United Mexican States   Investment Project Financing   \n",
       "...                                    ...                            ...   \n",
       "21185                                  NaN       Specific Investment Loan   \n",
       "21332                                  NaN       Specific Investment Loan   \n",
       "21334                                  NaN       Specific Investment Loan   \n",
       "21470                                  NaN       Specific Investment Loan   \n",
       "21535                                  NaN       Specific Investment Loan   \n",
       "\n",
       "       envassesmentcategorycode  esrc_ovrl_risk_rate            sector1  \\\n",
       "2                             C                  NaN                NaN   \n",
       "194                         NaN                  NaN                NaN   \n",
       "258                         NaN                  NaN                NaN   \n",
       "473                         NaN             Moderate                NaN   \n",
       "657                         NaN          Substantial                NaN   \n",
       "...                         ...                  ...                ...   \n",
       "21185                         B                  NaN  Primary Education   \n",
       "21332                         B                  NaN  Primary Education   \n",
       "21334                         A                  NaN       Water Supply   \n",
       "21470                         C                  NaN              Power   \n",
       "21535                         C                  NaN  Social Protection   \n",
       "\n",
       "                                     sector2             sector3  \\\n",
       "2                                        NaN                 NaN   \n",
       "194                                      NaN                 NaN   \n",
       "258                                      NaN                 NaN   \n",
       "473                                      NaN                 NaN   \n",
       "657                                      NaN                 NaN   \n",
       "...                                      ...                 ...   \n",
       "21185  Central Government (Central Agencies)   Social Protection   \n",
       "21332  Adult, Basic and Continuing Education  Tertiary Education   \n",
       "21334                                    NaN                 NaN   \n",
       "21470                                    NaN                 NaN   \n",
       "21535                        Other Education                 NaN   \n",
       "\n",
       "                                                  theme1                theme2  \n",
       "2      Public expenditure, financial management and p...      Decentralization  \n",
       "194                                                  NaN                   NaN  \n",
       "258                                                  NaN                   NaN  \n",
       "473                                                  NaN                   NaN  \n",
       "657                                                  NaN                   NaN  \n",
       "...                                                  ...                   ...  \n",
       "21185                                  Education for all      Decentralization  \n",
       "21332                  Rural services and infrastructure                Gender  \n",
       "21334            Urban services and housing for the poor                   NaN  \n",
       "21470     Other financial and private sector development  Regional integration  \n",
       "21535        Other social protection and risk management                   NaN  \n",
       "\n",
       "[7600 rows x 27 columns]"
      ]
     },
     "execution_count": 11,
     "metadata": {},
     "output_type": "execute_result"
    }
   ],
   "source": [
    "data"
   ]
  },
  {
   "cell_type": "code",
   "execution_count": null,
   "metadata": {
    "id": "2sdBE5QWFd8y"
   },
   "outputs": [],
   "source": [
    "df = data[['id','pdo','projectstatusdisplay']]"
   ]
  },
  {
   "cell_type": "code",
   "execution_count": null,
   "metadata": {
    "colab": {
     "base_uri": "https://localhost:8080/"
    },
    "id": "sgP3TNGOFgPy",
    "outputId": "e9cf7f4a-b7a6-4f91-f2d3-6c4fc4114b79"
   },
   "outputs": [
    {
     "name": "stderr",
     "output_type": "stream",
     "text": [
      "/usr/local/lib/python3.7/dist-packages/pandas/core/indexing.py:1732: SettingWithCopyWarning: \n",
      "A value is trying to be set on a copy of a slice from a DataFrame\n",
      "\n",
      "See the caveats in the documentation: https://pandas.pydata.org/pandas-docs/stable/user_guide/indexing.html#returning-a-view-versus-a-copy\n",
      "  self._setitem_single_block(indexer, value, name)\n",
      "/usr/local/lib/python3.7/dist-packages/pandas/core/indexing.py:723: SettingWithCopyWarning: \n",
      "A value is trying to be set on a copy of a slice from a DataFrame\n",
      "\n",
      "See the caveats in the documentation: https://pandas.pydata.org/pandas-docs/stable/user_guide/indexing.html#returning-a-view-versus-a-copy\n",
      "  iloc._setitem_with_indexer(indexer, value, self.name)\n"
     ]
    }
   ],
   "source": [
    "df.loc[data[\"projectstatusdisplay\"] == \"Dropped\", \"projectstatusdisplay\"] = 0\n",
    "df.loc[data[\"projectstatusdisplay\"] == \"Closed\", \"projectstatusdisplay\"] = 1"
   ]
  },
  {
   "cell_type": "code",
   "execution_count": null,
   "metadata": {
    "colab": {
     "base_uri": "https://localhost:8080/",
     "height": 424
    },
    "id": "gV3gUlW5FrsS",
    "outputId": "fdec0d09-41b9-439e-ece7-8c4e5e9bc065"
   },
   "outputs": [
    {
     "data": {
      "text/html": [
       "\n",
       "  <div id=\"df-7c87cb07-68e4-45ab-be91-e887a9f0e5d2\">\n",
       "    <div class=\"colab-df-container\">\n",
       "      <div>\n",
       "<style scoped>\n",
       "    .dataframe tbody tr th:only-of-type {\n",
       "        vertical-align: middle;\n",
       "    }\n",
       "\n",
       "    .dataframe tbody tr th {\n",
       "        vertical-align: top;\n",
       "    }\n",
       "\n",
       "    .dataframe thead th {\n",
       "        text-align: right;\n",
       "    }\n",
       "</style>\n",
       "<table border=\"1\" class=\"dataframe\">\n",
       "  <thead>\n",
       "    <tr style=\"text-align: right;\">\n",
       "      <th></th>\n",
       "      <th>id</th>\n",
       "      <th>pdo</th>\n",
       "      <th>projectstatusdisplay</th>\n",
       "    </tr>\n",
       "  </thead>\n",
       "  <tbody>\n",
       "    <tr>\n",
       "      <th>2</th>\n",
       "      <td>P252337</td>\n",
       "      <td>To improve citizen and government access to co...</td>\n",
       "      <td>0</td>\n",
       "    </tr>\n",
       "    <tr>\n",
       "      <th>194</th>\n",
       "      <td>P178571</td>\n",
       "      <td>The Project Development Objective (PDO) of the...</td>\n",
       "      <td>0</td>\n",
       "    </tr>\n",
       "    <tr>\n",
       "      <th>258</th>\n",
       "      <td>P178288</td>\n",
       "      <td>To strengthen the capacity of Romanian institu...</td>\n",
       "      <td>0</td>\n",
       "    </tr>\n",
       "    <tr>\n",
       "      <th>473</th>\n",
       "      <td>P177493</td>\n",
       "      <td>The development objective is to increase energ...</td>\n",
       "      <td>0</td>\n",
       "    </tr>\n",
       "    <tr>\n",
       "      <th>657</th>\n",
       "      <td>P176771</td>\n",
       "      <td>To improve living conditions of vulnerable hou...</td>\n",
       "      <td>0</td>\n",
       "    </tr>\n",
       "    <tr>\n",
       "      <th>...</th>\n",
       "      <td>...</td>\n",
       "      <td>...</td>\n",
       "      <td>...</td>\n",
       "    </tr>\n",
       "    <tr>\n",
       "      <th>21185</th>\n",
       "      <td>P000527</td>\n",
       "      <td>The revised PDO is to (i) improve access and e...</td>\n",
       "      <td>1</td>\n",
       "    </tr>\n",
       "    <tr>\n",
       "      <th>21332</th>\n",
       "      <td>P000309</td>\n",
       "      <td>The project development objective i s to assis...</td>\n",
       "      <td>1</td>\n",
       "    </tr>\n",
       "    <tr>\n",
       "      <th>21334</th>\n",
       "      <td>P000306</td>\n",
       "      <td>The objectives of the Project are to assist th...</td>\n",
       "      <td>1</td>\n",
       "    </tr>\n",
       "    <tr>\n",
       "      <th>21470</th>\n",
       "      <td>P000119</td>\n",
       "      <td>ENERGY SECTOR PROJECT INCLUDES POWER COMPONENT...</td>\n",
       "      <td>0</td>\n",
       "    </tr>\n",
       "    <tr>\n",
       "      <th>21535</th>\n",
       "      <td>P000031</td>\n",
       "      <td>THE PROJECT WILL (A) PROMOTE SKILLS DEVELOPMEN...</td>\n",
       "      <td>0</td>\n",
       "    </tr>\n",
       "  </tbody>\n",
       "</table>\n",
       "<p>7600 rows × 3 columns</p>\n",
       "</div>\n",
       "      <button class=\"colab-df-convert\" onclick=\"convertToInteractive('df-7c87cb07-68e4-45ab-be91-e887a9f0e5d2')\"\n",
       "              title=\"Convert this dataframe to an interactive table.\"\n",
       "              style=\"display:none;\">\n",
       "        \n",
       "  <svg xmlns=\"http://www.w3.org/2000/svg\" height=\"24px\"viewBox=\"0 0 24 24\"\n",
       "       width=\"24px\">\n",
       "    <path d=\"M0 0h24v24H0V0z\" fill=\"none\"/>\n",
       "    <path d=\"M18.56 5.44l.94 2.06.94-2.06 2.06-.94-2.06-.94-.94-2.06-.94 2.06-2.06.94zm-11 1L8.5 8.5l.94-2.06 2.06-.94-2.06-.94L8.5 2.5l-.94 2.06-2.06.94zm10 10l.94 2.06.94-2.06 2.06-.94-2.06-.94-.94-2.06-.94 2.06-2.06.94z\"/><path d=\"M17.41 7.96l-1.37-1.37c-.4-.4-.92-.59-1.43-.59-.52 0-1.04.2-1.43.59L10.3 9.45l-7.72 7.72c-.78.78-.78 2.05 0 2.83L4 21.41c.39.39.9.59 1.41.59.51 0 1.02-.2 1.41-.59l7.78-7.78 2.81-2.81c.8-.78.8-2.07 0-2.86zM5.41 20L4 18.59l7.72-7.72 1.47 1.35L5.41 20z\"/>\n",
       "  </svg>\n",
       "      </button>\n",
       "      \n",
       "  <style>\n",
       "    .colab-df-container {\n",
       "      display:flex;\n",
       "      flex-wrap:wrap;\n",
       "      gap: 12px;\n",
       "    }\n",
       "\n",
       "    .colab-df-convert {\n",
       "      background-color: #E8F0FE;\n",
       "      border: none;\n",
       "      border-radius: 50%;\n",
       "      cursor: pointer;\n",
       "      display: none;\n",
       "      fill: #1967D2;\n",
       "      height: 32px;\n",
       "      padding: 0 0 0 0;\n",
       "      width: 32px;\n",
       "    }\n",
       "\n",
       "    .colab-df-convert:hover {\n",
       "      background-color: #E2EBFA;\n",
       "      box-shadow: 0px 1px 2px rgba(60, 64, 67, 0.3), 0px 1px 3px 1px rgba(60, 64, 67, 0.15);\n",
       "      fill: #174EA6;\n",
       "    }\n",
       "\n",
       "    [theme=dark] .colab-df-convert {\n",
       "      background-color: #3B4455;\n",
       "      fill: #D2E3FC;\n",
       "    }\n",
       "\n",
       "    [theme=dark] .colab-df-convert:hover {\n",
       "      background-color: #434B5C;\n",
       "      box-shadow: 0px 1px 3px 1px rgba(0, 0, 0, 0.15);\n",
       "      filter: drop-shadow(0px 1px 2px rgba(0, 0, 0, 0.3));\n",
       "      fill: #FFFFFF;\n",
       "    }\n",
       "  </style>\n",
       "\n",
       "      <script>\n",
       "        const buttonEl =\n",
       "          document.querySelector('#df-7c87cb07-68e4-45ab-be91-e887a9f0e5d2 button.colab-df-convert');\n",
       "        buttonEl.style.display =\n",
       "          google.colab.kernel.accessAllowed ? 'block' : 'none';\n",
       "\n",
       "        async function convertToInteractive(key) {\n",
       "          const element = document.querySelector('#df-7c87cb07-68e4-45ab-be91-e887a9f0e5d2');\n",
       "          const dataTable =\n",
       "            await google.colab.kernel.invokeFunction('convertToInteractive',\n",
       "                                                     [key], {});\n",
       "          if (!dataTable) return;\n",
       "\n",
       "          const docLinkHtml = 'Like what you see? Visit the ' +\n",
       "            '<a target=\"_blank\" href=https://colab.research.google.com/notebooks/data_table.ipynb>data table notebook</a>'\n",
       "            + ' to learn more about interactive tables.';\n",
       "          element.innerHTML = '';\n",
       "          dataTable['output_type'] = 'display_data';\n",
       "          await google.colab.output.renderOutput(dataTable, element);\n",
       "          const docLink = document.createElement('div');\n",
       "          docLink.innerHTML = docLinkHtml;\n",
       "          element.appendChild(docLink);\n",
       "        }\n",
       "      </script>\n",
       "    </div>\n",
       "  </div>\n",
       "  "
      ],
      "text/plain": [
       "            id                                                pdo  \\\n",
       "2      P252337  To improve citizen and government access to co...   \n",
       "194    P178571  The Project Development Objective (PDO) of the...   \n",
       "258    P178288  To strengthen the capacity of Romanian institu...   \n",
       "473    P177493  The development objective is to increase energ...   \n",
       "657    P176771  To improve living conditions of vulnerable hou...   \n",
       "...        ...                                                ...   \n",
       "21185  P000527  The revised PDO is to (i) improve access and e...   \n",
       "21332  P000309  The project development objective i s to assis...   \n",
       "21334  P000306  The objectives of the Project are to assist th...   \n",
       "21470  P000119  ENERGY SECTOR PROJECT INCLUDES POWER COMPONENT...   \n",
       "21535  P000031  THE PROJECT WILL (A) PROMOTE SKILLS DEVELOPMEN...   \n",
       "\n",
       "      projectstatusdisplay  \n",
       "2                        0  \n",
       "194                      0  \n",
       "258                      0  \n",
       "473                      0  \n",
       "657                      0  \n",
       "...                    ...  \n",
       "21185                    1  \n",
       "21332                    1  \n",
       "21334                    1  \n",
       "21470                    0  \n",
       "21535                    0  \n",
       "\n",
       "[7600 rows x 3 columns]"
      ]
     },
     "execution_count": 14,
     "metadata": {},
     "output_type": "execute_result"
    }
   ],
   "source": [
    "df"
   ]
  },
  {
   "cell_type": "code",
   "execution_count": null,
   "metadata": {
    "colab": {
     "base_uri": "https://localhost:8080/"
    },
    "id": "oeb8pT2QFtOy",
    "outputId": "679cada3-a6eb-42a6-b304-53e644453cea"
   },
   "outputs": [
    {
     "data": {
      "text/plain": [
       "1    6500\n",
       "0    1100\n",
       "Name: projectstatusdisplay, dtype: int64"
      ]
     },
     "execution_count": 15,
     "metadata": {},
     "output_type": "execute_result"
    }
   ],
   "source": [
    "df['projectstatusdisplay'].value_counts()"
   ]
  },
  {
   "cell_type": "markdown",
   "metadata": {},
   "source": [
    "# Visualizing Item Count For Different Labels Of Dataset"
   ]
  },
  {
   "cell_type": "code",
   "execution_count": null,
   "metadata": {
    "colab": {
     "base_uri": "https://localhost:8080/",
     "height": 428
    },
    "id": "KABBvTzQGG_R",
    "outputId": "98f6c2cc-e352-4468-efe3-60a66b7cb6a5"
   },
   "outputs": [
    {
     "data": {
      "image/png": "[encoded data removed]",
      "text/plain": [
       "<Figure size 720x504 with 1 Axes>"
      ]
     },
     "metadata": {
      "needs_background": "light"
     },
     "output_type": "display_data"
    }
   ],
   "source": [
    "import matplotlib.pyplot as plt\n",
    "fig, ax = plt.subplots(figsize =(10, 7))\n",
    "ax.hist(df['projectstatusdisplay'])\n",
    " \n",
    "# Show plot\n",
    "plt.show()"
   ]
  },
  {
   "cell_type": "markdown",
   "metadata": {},
   "source": [
    "# Splitting Train And Validation Dataset"
   ]
  },
  {
   "cell_type": "code",
   "execution_count": null,
   "metadata": {
    "colab": {
     "base_uri": "https://localhost:8080/"
    },
    "id": "XmHEHMAnGRJZ",
    "outputId": "82ac77a4-6fc3-43d2-e2bb-a986b955d33b"
   },
   "outputs": [
    {
     "data": {
      "text/plain": [
       "((5700, 3), (142, 3))"
      ]
     },
     "execution_count": 24,
     "metadata": {},
     "output_type": "execute_result"
    }
   ],
   "source": [
    "train_df, remaining = train_test_split (df, random_state=42, train_size=0.75, stratify=df.projectstatusdisplay.values) \n",
    "valid_df, _ = train_test_split(remaining, random_state=42, train_size=0.075, stratify=remaining.projectstatusdisplay.values) \n",
    "train_df.shape, valid_df.shape"
   ]
  },
  {
   "cell_type": "code",
   "execution_count": null,
   "metadata": {
    "colab": {
     "base_uri": "https://localhost:8080/"
    },
    "id": "Yepcah7tIos5",
    "outputId": "74ca9a92-83fc-493b-c3af-681229b84d56"
   },
   "outputs": [
    {
     "name": "stdout",
     "output_type": "stream",
     "text": [
      "id                      object\n",
      "pdo                     object\n",
      "projectstatusdisplay     int64\n",
      "dtype: object\n",
      "id                      object\n",
      "pdo                     object\n",
      "projectstatusdisplay     int64\n",
      "dtype: object\n"
     ]
    }
   ],
   "source": [
    "train_df[['projectstatusdisplay']] = train_df[['projectstatusdisplay']].apply(pd.to_numeric)\n",
    "print(train_df.dtypes)\n",
    "valid_df[['projectstatusdisplay']] = valid_df[['projectstatusdisplay']].apply(pd.to_numeric)\n",
    "print(valid_df.dtypes)"
   ]
  },
  {
   "cell_type": "markdown",
   "metadata": {},
   "source": [
    "# Differentiating In Text and Label"
   ]
  },
  {
   "cell_type": "code",
   "execution_count": null,
   "metadata": {
    "colab": {
     "base_uri": "https://localhost:8080/"
    },
    "id": "VPyvV7gcHYaq",
    "outputId": "5e5be2f4-01ab-42ff-cf7f-3be1ba4992f9"
   },
   "outputs": [
    {
     "name": "stdout",
     "output_type": "stream",
     "text": [
      "tf.Tensor(b'Project Development Objective (Note: will be disclosed in the MOS)  10/2/97:  CHANGED IDA AMOUNT TO $150M PER SERGE MICHAILOF (DKT). 01/05/98:  LAST UPDATE TO THIS TIMETABLE (DKT)  PROPOSAL TO ROC TO INCREASE CREDIT AMOUNT TO US$200M. NOT YET APPROVED. PCD BEING REVISED IN LIGHT OF PREPARATION MISSION. 01/16/98:  PER DISCUSSION BETWEEN RVPS AND CD, THE AMOUNT HAS BEEN INCREASED FROM $150M TO $200M (ANJU/BOB).  BOARD DATE ON 6/11/98. FOCUSES ON ELEIMINATING DISTORTIONS THAT DISADVANTAGE THE POOR. Board Schedule Comments', shape=(), dtype=string)\n",
      "tf.Tensor(1, shape=(), dtype=int64)\n"
     ]
    }
   ],
   "source": [
    "with tf.device('/cpu:0'): \n",
    "  train_data = tf.data.Dataset.from_tensor_slices((train_df['pdo'].values, train_df['projectstatusdisplay'].values)) \n",
    "  valid_data = tf.data.Dataset.from_tensor_slices((valid_df.pdo.values, valid_df.projectstatusdisplay.values)) \n",
    "  \n",
    "  for text, label in train_data.take(1): \n",
    "    print(text) \n",
    "    print(label)"
   ]
  },
  {
   "cell_type": "markdown",
   "metadata": {},
   "source": [
    "# Tokenizing & Padding and Truncating Sequences"
   ]
  },
  {
   "cell_type": "code",
   "execution_count": null,
   "metadata": {
    "id": "5wd_-DMDIQgJ"
   },
   "outputs": [],
   "source": [
    "label_list = [0, 1] # Label categories \n",
    "max_seq_length = 128 #maximum length of (token) input sequences \n",
    "train_batch_size = 32\n",
    "\n",
    "bert_layer= hub.KerasLayer(\"https://tfhub.dev/tensorflow/bert_en_uncased_L-12_H-768_A-12/2\", trainable=True) \n",
    "\n",
    "vocab_file = bert_layer.resolved_object.vocab_file.asset_path.numpy() \n",
    "do_lower_case = bert_layer.resolved_object.do_lower_case.numpy() \n",
    "tokenizer = tokenization.FullTokenizer(vocab_file, do_lower_case)"
   ]
  },
  {
   "cell_type": "code",
   "execution_count": null,
   "metadata": {
    "colab": {
     "base_uri": "https://localhost:8080/"
    },
    "id": "-67rjYuhIf8M",
    "outputId": "5f99848e-0989-45dc-d894-bbc51b8b64dd"
   },
   "outputs": [
    {
     "data": {
      "text/plain": [
       "['hi', '##,', 'how', 'are', 'you', 'doing', '##?']"
      ]
     },
     "execution_count": 32,
     "metadata": {},
     "output_type": "execute_result"
    }
   ],
   "source": [
    "tokenizer.wordpiece_tokenizer.tokenize('hi, how are you doing?')"
   ]
  },
  {
   "cell_type": "code",
   "execution_count": null,
   "metadata": {
    "colab": {
     "base_uri": "https://localhost:8080/"
    },
    "id": "kjQHLJTSKGZk",
    "outputId": "f18ed1d8-9a96-4609-ee32-e1ed3cc0b759"
   },
   "outputs": [
    {
     "data": {
      "text/plain": [
       "[7632, 29623, 2129, 2024, 2017, 2725, 29632]"
      ]
     },
     "execution_count": 34,
     "metadata": {},
     "output_type": "execute_result"
    }
   ],
   "source": [
    "tokenizer.convert_tokens_to_ids (tokenizer.wordpiece_tokenizer.tokenize('hi, how are you doing?'))"
   ]
  },
  {
   "cell_type": "markdown",
   "metadata": {},
   "source": [
    "# Preprocossing Of Data"
   ]
  },
  {
   "cell_type": "code",
   "execution_count": null,
   "metadata": {
    "id": "pmdpEcymKOgN"
   },
   "outputs": [],
   "source": [
    "def to_feature(text, label, label_list=label_list, max_seq_length=max_seq_length, tokenizer=tokenizer): \n",
    "  example = classifier_data_lib.InputExample(guid=None, \n",
    "                                             text_a= text.numpy (), \n",
    "                                             text_b = None, \n",
    "                                             label = label.numpy()) \n",
    "  feature = classifier_data_lib.convert_single_example(0, example, label_list, max_seq_length, tokenizer) \n",
    "  \n",
    "  return (feature.input_ids, feature.input_mask, feature.segment_ids, feature.label_id)"
   ]
  },
  {
   "cell_type": "code",
   "execution_count": null,
   "metadata": {
    "id": "Y2ctfwT1LK-X"
   },
   "outputs": [],
   "source": [
    "def to_feature_map(text, label): \n",
    "  input_ids, input_mask, segment_ids, label_id = tf.py_function(to_feature, inp=[text, label], Tout=[tf.int32, tf.int32, tf.int32, tf.int32]) \n",
    "  \n",
    "  input_ids.set_shape ([max_seq_length]) \n",
    "  input_mask.set_shape([max_seq_length]) \n",
    "  segment_ids.set_shape([max_seq_length]) \n",
    "  label_id.set_shape([]) \n",
    "  \n",
    "  x = { \n",
    "      'input_word_ids': input_ids, \n",
    "       'input_mask': input_mask, \n",
    "       'input_type_ids': segment_ids \n",
    "       } \n",
    "       \n",
    "  return (x, label_id)"
   ]
  },
  {
   "cell_type": "code",
   "execution_count": null,
   "metadata": {
    "id": "taMgf2gHMRjK"
   },
   "outputs": [],
   "source": [
    "with tf.device('/cpu:0'): \n",
    "  # train \n",
    "  train_data= (train_data.map(to_feature_map,\n",
    "                              num_parallel_calls=tf.data.experimental.AUTOTUNE)\n",
    "  .shuffle (1000) \n",
    "  .batch(32, drop_remainder=True) \n",
    "  .prefetch(tf.data.experimental.AUTOTUNE))\n",
    "  # valid \n",
    "  valid_data = (valid_data.map(to_feature_map, \n",
    "                               num_parallel_calls=tf.data.experimental.AUTOTUNE)\n",
    "  .batch (32, drop_remainder=True) \n",
    "  .prefetch(tf.data.experimental.AUTOTUNE))  "
   ]
  },
  {
   "cell_type": "code",
   "execution_count": null,
   "metadata": {
    "colab": {
     "base_uri": "https://localhost:8080/"
    },
    "id": "pjbRX-D_OExn",
    "outputId": "b164e687-bb21-4ff0-f513-af41e5ddc0f4"
   },
   "outputs": [
    {
     "data": {
      "text/plain": [
       "({'input_mask': TensorSpec(shape=(32, 128), dtype=tf.int32, name=None),\n",
       "  'input_type_ids': TensorSpec(shape=(32, 128), dtype=tf.int32, name=None),\n",
       "  'input_word_ids': TensorSpec(shape=(32, 128), dtype=tf.int32, name=None)},\n",
       " TensorSpec(shape=(32,), dtype=tf.int32, name=None))"
      ]
     },
     "execution_count": 39,
     "metadata": {},
     "output_type": "execute_result"
    }
   ],
   "source": [
    "train_data.element_spec"
   ]
  },
  {
   "cell_type": "code",
   "execution_count": null,
   "metadata": {
    "colab": {
     "base_uri": "https://localhost:8080/"
    },
    "id": "p_MUMPcEOPfK",
    "outputId": "bbd4721b-7169-4df2-c783-8050950c95e8"
   },
   "outputs": [
    {
     "data": {
      "text/plain": [
       "({'input_mask': TensorSpec(shape=(32, 128), dtype=tf.int32, name=None),\n",
       "  'input_type_ids': TensorSpec(shape=(32, 128), dtype=tf.int32, name=None),\n",
       "  'input_word_ids': TensorSpec(shape=(32, 128), dtype=tf.int32, name=None)},\n",
       " TensorSpec(shape=(32,), dtype=tf.int32, name=None))"
      ]
     },
     "execution_count": 40,
     "metadata": {},
     "output_type": "execute_result"
    }
   ],
   "source": [
    "valid_data.element_spec"
   ]
  },
  {
   "cell_type": "markdown",
   "metadata": {},
   "source": [
    "# Building the model"
   ]
  },
  {
   "cell_type": "code",
   "execution_count": null,
   "metadata": {
    "id": "s4jdCSVGOUKB"
   },
   "outputs": [],
   "source": [
    "def create_model(): \n",
    "  input_word_ids = tf.keras.layers.Input(shape=(max_seq_length,), dtype=tf.int32, \n",
    "                                         name=\"input_word_ids\") \n",
    "  input_mask = tf.keras.layers.Input(shape=(max_seq_length,), dtype=tf.int32, \n",
    "                                     name=\"input_mask\") \n",
    "  input_type_ids  = tf.keras.layers.Input(shape=(max_seq_length,), dtype=tf.int32, \n",
    "                                      name=\"input_type_ids \") \n",
    "  pooled_output, sequence_output= bert_layer([input_word_ids, input_mask, input_type_ids]) \n",
    "  drop= tf.keras.layers.Dropout(0.4)(pooled_output) \n",
    "  output= tf.keras.layers.Dense(1, activation='sigmoid', name='output')(drop)\n",
    "  model= tf.keras.Model( \n",
    "      inputs={ \n",
    "          'input_word_ids': input_word_ids, \n",
    "          'input_mask': input_mask, \n",
    "          'input_type_ids': input_type_ids \n",
    "          }, \n",
    "          outputs = output) \n",
    "  return model"
   ]
  },
  {
   "cell_type": "code",
   "execution_count": null,
   "metadata": {
    "colab": {
     "base_uri": "https://localhost:8080/"
    },
    "id": "OasOmVWsQI_K",
    "outputId": "5966759e-e8f0-41c4-8b3a-1337152f49e7"
   },
   "outputs": [
    {
     "name": "stdout",
     "output_type": "stream",
     "text": [
      "Model: \"model\"\n",
      "__________________________________________________________________________________________________\n",
      " Layer (type)                   Output Shape         Param #     Connected to                     \n",
      "==================================================================================================\n",
      " input_word_ids (InputLayer)    [(None, 128)]        0           []                               \n",
      "                                                                                                  \n",
      " input_mask (InputLayer)        [(None, 128)]        0           []                               \n",
      "                                                                                                  \n",
      " input_type_ids  (InputLayer)   [(None, 128)]        0           []                               \n",
      "                                                                                                  \n",
      " keras_layer (KerasLayer)       [(None, 768),        109482241   ['input_word_ids[0][0]',         \n",
      "                                 (None, 128, 768)]                'input_mask[0][0]',             \n",
      "                                                                  'input_type_ids [0][0]']        \n",
      "                                                                                                  \n",
      " dropout_1 (Dropout)            (None, 768)          0           ['keras_layer[1][0]']            \n",
      "                                                                                                  \n",
      " output (Dense)                 (None, 1)            769         ['dropout_1[0][0]']              \n",
      "                                                                                                  \n",
      "==================================================================================================\n",
      "Total params: 109,483,010\n",
      "Trainable params: 109,483,009\n",
      "Non-trainable params: 1\n",
      "__________________________________________________________________________________________________\n"
     ]
    }
   ],
   "source": [
    "model = create_model() \n",
    "model.compile(optimizer= tf.keras.optimizers.Adam(learning_rate=2e-5), \n",
    "              loss= tf.keras.losses.BinaryCrossentropy(), \n",
    "              metrics=[tf.keras.metrics.BinaryAccuracy()]) \n",
    "model.summary()"
   ]
  },
  {
   "cell_type": "markdown",
   "metadata": {},
   "source": [
    "# Model View With Parameters"
   ]
  },
  {
   "cell_type": "code",
   "execution_count": null,
   "metadata": {
    "colab": {
     "base_uri": "https://localhost:8080/",
     "height": 338
    },
    "id": "-STQxcU0RTHX",
    "outputId": "1c158e23-14ed-4946-94fc-0722c2800d27",
    "scrolled": true
   },
   "outputs": [
    {
     "data": {
      "image/png": "[encoded data removed]",
      "text/plain": [
       "<IPython.core.display.Image object>"
      ]
     },
     "execution_count": 46,
     "metadata": {},
     "output_type": "execute_result"
    }
   ],
   "source": [
    "tf.keras.utils.plot_model(model=model, show_shapes=True, dpi=76)"
   ]
  },
  {
   "cell_type": "markdown",
   "metadata": {},
   "source": [
    "# Fitting Model With Train Data"
   ]
  },
  {
   "cell_type": "code",
   "execution_count": null,
   "metadata": {
    "colab": {
     "base_uri": "https://localhost:8080/"
    },
    "id": "iLPYPgSsRlAE",
    "outputId": "425b2c37-4b41-47ab-b2d3-ee6ca3e16ff8"
   },
   "outputs": [
    {
     "name": "stdout",
     "output_type": "stream",
     "text": [
      "Epoch 1/4\n",
      "178/178 [==============================] - 167s 834ms/step - loss: 0.4400 - binary_accuracy: 0.8434 - val_loss: 0.3427 - val_binary_accuracy: 0.8750\n",
      "Epoch 2/4\n",
      "178/178 [==============================] - 150s 831ms/step - loss: 0.3685 - binary_accuracy: 0.8611 - val_loss: 0.3449 - val_binary_accuracy: 0.8906\n",
      "Epoch 3/4\n",
      "178/178 [==============================] - 150s 830ms/step - loss: 0.2828 - binary_accuracy: 0.8931 - val_loss: 0.3164 - val_binary_accuracy: 0.8984\n",
      "Epoch 4/4\n",
      "178/178 [==============================] - 150s 831ms/step - loss: 0.1949 - binary_accuracy: 0.9289 - val_loss: 0.4247 - val_binary_accuracy: 0.8828\n"
     ]
    }
   ],
   "source": [
    "epochs = 4 \n",
    "history = model.fit (train_data, \n",
    "                     validation_data=valid_data, \n",
    "                     epochs=epochs, \n",
    "                     verbose=1)"
   ]
  },
  {
   "cell_type": "code",
   "execution_count": null,
   "metadata": {
    "id": "YbNcPUbXR3Gr"
   },
   "outputs": [],
   "source": [
    "import matplotlib.pyplot as plt \n",
    "def plot_graphs (history, metric): \n",
    "  plt.plot(history.history[metric]) \n",
    "  plt.plot(history.history['val_' +metric], '') \n",
    "  plt.xlabel(\"Epochs\") \n",
    "  plt.ylabel(metric) \n",
    "  plt.legend([metric, 'val_'+metric]) \n",
    "  plt.show()"
   ]
  },
  {
   "cell_type": "markdown",
   "metadata": {},
   "source": [
    "# Model Evaluation"
   ]
  },
  {
   "cell_type": "code",
   "execution_count": null,
   "metadata": {
    "colab": {
     "base_uri": "https://localhost:8080/",
     "height": 282
    },
    "id": "DCrLc28aVJpa",
    "outputId": "efca60df-ee69-41b2-8168-2035b7cd067a",
    "scrolled": true
   },
   "outputs": [
    {
     "data": {
      "image/png": "[encoded data removed]",
      "text/plain": [
       "<Figure size 432x288 with 1 Axes>"
      ]
     },
     "metadata": {
      "needs_background": "light"
     },
     "output_type": "display_data"
    }
   ],
   "source": [
    "plot_graphs (history, 'loss')"
   ]
  },
  {
   "cell_type": "code",
   "execution_count": null,
   "metadata": {
    "colab": {
     "base_uri": "https://localhost:8080/",
     "height": 279
    },
    "id": "Wn5X3PK7VXYt",
    "outputId": "fb442cce-01cb-47bc-f366-6d7b549d608f"
   },
   "outputs": [
    {
     "data": {
      "image/png": "[encoded data removed]",
      "text/plain": [
       "<Figure size 432x288 with 1 Axes>"
      ]
     },
     "metadata": {
      "needs_background": "light"
     },
     "output_type": "display_data"
    }
   ],
   "source": [
    "plot_graphs (history, 'binary_accuracy')"
   ]
  },
  {
   "cell_type": "markdown",
   "metadata": {},
   "source": [
    "# Prediction"
   ]
  },
  {
   "cell_type": "markdown",
   "metadata": {},
   "source": [
    "## You can enter any project objective and see if it would be dropped or closed, One example is shown below."
   ]
  },
  {
   "cell_type": "code",
   "execution_count": null,
   "metadata": {
    "colab": {
     "base_uri": "https://localhost:8080/"
    },
    "id": "oMEJ3naBVfQ9",
    "outputId": "22ab76ce-b03f-4ced-a725-852e8121128c"
   },
   "outputs": [
    {
     "data": {
      "text/plain": [
       "['Closed']"
      ]
     },
     "execution_count": 55,
     "metadata": {},
     "output_type": "execute_result"
    }
   ],
   "source": [
    "sample_example =[\"The program development objective is to support the Royal Government of Cambodia to effectively deal with the COVID-19 crisis and it s aftermath by: (i) continuing to provide timely and targeted relief to the affected population; (ii) facilitating robust recovery t hrough structural reforms; and (iii) building resilience against future economic shocks.\"] \n",
    "test_data = tf.data.Dataset.from_tensor_slices((sample_example, [0]*len(sample_example))) \n",
    "test_data= (test_data.map(to_feature_map).batch(1)) \n",
    "preds=model.predict(test_data) \n",
    "threshold = 0.5\n",
    "['Closed' if pred >=threshold else 'Dropped' for pred in preds]"
   ]
  },
  {
   "cell_type": "markdown",
   "metadata": {},
   "source": [
    "# Test Data"
   ]
  },
  {
   "cell_type": "code",
   "execution_count": null,
   "metadata": {
    "id": "esTxPiayagjh"
   },
   "outputs": [],
   "source": [
    "dsc = df.head(30)\n",
    "pdo_test = dsc['pdo'].tolist()\n",
    "y_test = dsc['projectstatusdisplay'].tolist()"
   ]
  },
  {
   "cell_type": "code",
   "execution_count": null,
   "metadata": {
    "id": "Jggeh9lwYXrO"
   },
   "outputs": [],
   "source": [
    "sample_example = pdo_test\n",
    "test_data = tf.data.Dataset.from_tensor_slices((sample_example, [0]*len(sample_example))) \n",
    "test_data= (test_data.map(to_feature_map).batch(1)) \n",
    "preds=model.predict(test_data) \n",
    "threshold = 0.5\n",
    "y_predicted = []\n",
    "for pred in preds:\n",
    "  if pred >=threshold:\n",
    "    y_predicted.append(1)\n",
    "  else:\n",
    "    y_predicted.append(0)\n"
   ]
  },
  {
   "cell_type": "markdown",
   "metadata": {},
   "source": [
    "# Confusion Matrix"
   ]
  },
  {
   "cell_type": "code",
   "execution_count": null,
   "metadata": {
    "colab": {
     "base_uri": "https://localhost:8080/",
     "height": 300
    },
    "id": "cNjVZKTaW3gn",
    "outputId": "d965a55f-0b53-419e-f9d0-ef3455dfc4d7"
   },
   "outputs": [
    {
     "data": {
      "text/plain": [
       "Text(33.0, 0.5, 'True')"
      ]
     },
     "execution_count": 62,
     "metadata": {},
     "output_type": "execute_result"
    },
    {
     "data": {
      "image/png": "[encoded data removed]",
      "text/plain": [
       "<Figure size 432x288 with 2 Axes>"
      ]
     },
     "metadata": {
      "needs_background": "light"
     },
     "output_type": "display_data"
    }
   ],
   "source": [
    "from sklearn.metrics import confusion_matrix, classification_report \n",
    "cm = confusion_matrix(y_test, y_predicted) \n",
    "cm\n",
    "from matplotlib import pyplot as plt\n",
    "import seaborn as sn \n",
    "sn.heatmap (cm, annot=True, fmt='d') \n",
    "plt.xlabel('Predicted') \n",
    "plt.ylabel('True')"
   ]
  },
  {
   "cell_type": "code",
   "execution_count": null,
   "metadata": {
    "id": "JHPZNfrnbaXR"
   },
   "outputs": [],
   "source": []
  }
 ],
 "metadata": {
  "accelerator": "GPU",
  "colab": {
   "name": "World Bank.ipynb",
   "provenance": []
  },
  "gpuClass": "standard",
  "kernelspec": {
   "display_name": "Python 3",
   "language": "python",
   "name": "python3"
  },
  "language_info": {
   "codemirror_mode": {
    "name": "ipython",
    "version": 3
   },
   "file_extension": ".py",
   "mimetype": "text/x-python",
   "name": "python",
   "nbconvert_exporter": "python",
   "pygments_lexer": "ipython3",
   "version": "3.8.8"
  }
 },
 "nbformat": 4,
 "nbformat_minor": 1
}
